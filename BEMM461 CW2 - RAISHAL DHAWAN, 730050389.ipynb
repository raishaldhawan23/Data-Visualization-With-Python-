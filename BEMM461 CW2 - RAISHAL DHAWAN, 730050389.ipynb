{
 "cells": [
  {
   "cell_type": "markdown",
   "metadata": {},
   "source": [
    "# “From Sourcing to revenue: An in-depth analysis for fashion and beauty startup’s Supply Chain” \n",
    "\n",
    "## Executive Summary\n",
    "The report highlights the development in the operations and processes of Supply Chain Analytics through the preparation of the Supply Chain Analytics Dashboard which is the focal area of the project. It summarizes and reveals the hidden information in the dataset, providing insights to make well-informed decisions and helping to fulfill the objectives of this project. The report gives a brief introduction to the project’s subject and theoretical background to give an idea of the business landscape. The strategic decisions and recommendations suggested in the report are backed up by a thorough study of Visualization theories and a critique of analytics approaches, as well as the applicability of chosen tools. A link to the dataset for further investigation has been attached to this report in the name of transparency. The Python code for creating the dashboard is clearly articulated providing a clear view of the dash concepts used. The attached link for the reflective blog showcases the design process of this report, giving a detailed description of the project’s journey, the thinking process throughout, the challenges faced, and the skills gained out of this project. The Methodology, including the review of chosen datasets and articulation of decision-making processes, reflects the thinking design. The conclusion provides a summary of the report's key findings, and the report is supported by the references listed. The analysis provides actionable insights to senior leaders for strategic decision-making and improving operational efficiency.\n",
    "\n",
    "## Table of Links\n",
    "| Description | Link |\n",
    "| -- | -- |\n",
    "| Reflective blog | https://ele.exeter.ac.uk/mod/oublog/viewpost.php?post=34177 |\n",
    "| Chosen Dataset |https://github.com/raishaldhawan/BEMM461--Analytics-and-Visualization-for-Managers-and-consultants-project.git|\n",
    "\n",
    "## Table of Contents\n",
    "1. Introduction\n",
    "2. Project Dashboard\n",
    "3. Theoretical Background\n",
    "   i) Supply Chain Analytics\n",
    "   ii) Contextual Information\n",
    "   iii) Objectives\n",
    "4. Methodology\n",
    "   i) Data Collection Process\n",
    "   ii) Review of chosen datasets\n",
    "   iii) Review of available tools\n",
    "5. Articulation of decision-making process\n",
    "6. Review of analytics methods chosen\n",
    "7. Visualization of data with accompanying code\n",
    "8. Reflective Evaluation\n",
    "9. Conclusion\n",
    "10. References\n"
   ]
  },
  {
   "cell_type": "markdown",
   "metadata": {},
   "source": [
    "## 1. Introduction\n",
    "\n",
    "Supply chain analytics has emerged as an important tool for making strategic decisions and improving the bottom line in the fashion and beauty industry. As the global fashion industry is expected to grow by 2 to 4 percent in 2024, effective supply chain management has become more and more crucial. The report analyses the supply chain data of a fashion and beauty startup through an interactive dashboard made by using the Dash Python Framework. This not only allows us to explore the dataset but also provides key players with the insights to make smart choices based on real-time data. The analysis explores several areas of the startup's supply chain operations using various analytics methods, and data visualization tools, that measure key performance indicators, and identify optimization opportunities. The report aims to provide insights to the Executives and Senior managers, allowing them to optimize the supply chain to improve its efficiency, reduce costs, and enhance customer satisfaction. The report's findings are intended to be of great interest to startup executives, industry experts, and stakeholders, providing valuable views on the implementation of supply chain analytics in the fashion and beauty industry."
   ]
  },
  {
   "cell_type": "markdown",
   "metadata": {},
   "source": [
    "## 2. Project Dashboard\n",
    "\n",
    "The following code and dashboard for Supply Chain Analytics display key metrics useful to carry out the analysis and provide actionable insights for strategic decision-making. The dashboard comes under the category of analytical dashboards, catering to senior managers and executives. It serves the users’ needs to make decisions relating to inventory levels, product launches, and shipping strategies. Each visualization in the dashboard tells a specific story related to Supply Chain Management (refer to reflective blog). It communicates the current state of supply chain performance and serves as a powerful tool for senior executives to make data-driven decisions. The visualizations in the dashboard model both complex and simple relationships between categorical and quantitative data. Simple relationships include- Stock level distribution, Costs by transportation mode, and Defect rates by transportation mode because they provide straightforward comparisons. The rest falls under complex relationships displaying complex interactions between quantitative variables.\n",
    "\n",
    "Run the following code to have a look at the Dashboard (you might have to change the port name at the very last of the code if required).\n"
   ]
  },
  {
   "cell_type": "code",
   "execution_count": 6,
   "metadata": {},
   "outputs": [
    {
     "data": {
      "text/html": [
       "\n",
       "        <iframe\n",
       "            width=\"100%\"\n",
       "            height=\"650\"\n",
       "            src=\"http://127.0.0.1:8079/\"\n",
       "            frameborder=\"0\"\n",
       "            allowfullscreen\n",
       "            \n",
       "        ></iframe>\n",
       "        "
      ],
      "text/plain": [
       "<IPython.lib.display.IFrame at 0x2d122881c50>"
      ]
     },
     "metadata": {},
     "output_type": "display_data"
    }
   ],
   "source": [
    "from dash import Dash, dcc, html, Input, Output\n",
    "import pandas as pd\n",
    "import plotly.express as px\n",
    "import plotly.graph_objects as go\n",
    "import plotly.io as pio\n",
    "pio.templates.default = \"plotly_white\"\n",
    "\n",
    "\n",
    "#Incorporate Data\n",
    "supply_chain_data = pd.read_csv('supply_chain_data.csv')\n",
    "\n",
    "#KPIs Calculations:\n",
    "\n",
    "#Average Stock Level\n",
    "average_stock_level = supply_chain_data['Stock levels'].mean()\n",
    "\n",
    "# Inventory Turnover Rate\n",
    "supply_chain_data['Inventory Turnover'] = supply_chain_data['Number of products sold'] / supply_chain_data['Stock levels']\n",
    "inventory_turnover_rate = supply_chain_data['Inventory Turnover'].mean()\n",
    "\n",
    "#Sales by Product type\n",
    "sales_data = supply_chain_data.groupby('Product type')['Number of products sold'].sum().reset_index()\n",
    "\n",
    "#Manufacturing Lead Time\n",
    "manufacturing_lead_time = supply_chain_data['Manufacturing lead time'].mean()\n",
    "\n",
    "#On-Time Delivery Rate\n",
    "supply_chain_data['On-Time Delivery'] = (supply_chain_data['Shipping times'] <= supply_chain_data['Lead time'])\n",
    "on_time_delivery_rate = supply_chain_data['On-Time Delivery'].mean() * 100\n",
    "\n",
    "#Initialize the Dash app\n",
    "app = Dash(__name__)\n",
    "\n",
    "#Creating charts\n",
    "\n",
    "#Customer Demographics Analysis\n",
    "fig_customer_demographics = px.bar(supply_chain_data, x='Customer demographics', title='Customer Demographics Analysis')\n",
    "\n",
    "#SKU Analysis:\n",
    "revenue_chart = px.line(supply_chain_data, x='SKU', \n",
    "                        y='Revenue generated', \n",
    "                        title='Revenue Generated by SKU')\n",
    "\n",
    "stock_chart = px.line(supply_chain_data, x='SKU', \n",
    "                      y='Stock levels', \n",
    "                      title='Stock Levels by SKU')\n",
    "\n",
    "order_quantity_chart = px.bar(supply_chain_data, x='SKU', \n",
    "                              y='Order quantities', \n",
    "                              title='Order Quantity by SKU')\n",
    "\n",
    "#Sales by Product type\n",
    "pie_chart = px.pie(sales_data, values='Number of products sold', names='Product type', \n",
    "                   title='Sales by Product Type', \n",
    "                   hover_data=['Number of products sold'],\n",
    "                   hole=0.5,\n",
    "                   color_discrete_sequence=px.colors.qualitative.Pastel)\n",
    "                   \n",
    "pie_chart.update_traces(textposition='inside', textinfo='percent+label')\n",
    "\n",
    "#Relationship between Product prices and Revenue\n",
    "fig_relationship_pp = px.scatter(supply_chain_data, x='Price', \n",
    "                 y='Revenue generated', title = 'Relationship between Product prices and Revenue',\n",
    "                 color='Product type', \n",
    "                 hover_data=['Number of products sold'], \n",
    "                 trendline=\"ols\")\n",
    "\n",
    "#Cost Distribution by Transportation mode\n",
    "transportation_chart = px.pie(supply_chain_data, \n",
    "                              values='Costs', \n",
    "                              names='Transportation modes', \n",
    "                              title='Cost Distribution by Transportation Mode',\n",
    "                              hole=0.5,\n",
    "                              color_discrete_sequence=px.colors.qualitative.Pastel)\n",
    "\n",
    "\n",
    "#Defect rates by mode of transportation\n",
    "pivot_table = pd.pivot_table(supply_chain_data, values='Defect rates', \n",
    "                             index=['Transportation modes'], \n",
    "                             aggfunc='mean')\n",
    "\n",
    "transportation_chart_defect_rate = px.pie(values=pivot_table[\"Defect rates\"], \n",
    "                              names=pivot_table.index, \n",
    "                              title='Defect Rates by Transportation Mode',\n",
    "                              hole=0.5,\n",
    "                              color_discrete_sequence=px.colors.qualitative.Pastel)\n",
    "\n",
    "#Stock Level Distribution\n",
    "fig_stock_level = px.histogram(supply_chain_data, x='Stock levels', nbins=30, title='Stock Levels Distribution',\n",
    "                               template='plotly_white', color_discrete_sequence=['#3498db'])\n",
    "\n",
    "#Inventory Turnover VS Stock levels\n",
    "fig_inventory_turnover = px.scatter(supply_chain_data, x='Stock levels', y='Number of products sold',\n",
    "                                    title='Number of products sold vs. Stock Levels',\n",
    "                                    template='plotly_white', color='Number of products sold',\n",
    "                                    color_continuous_scale='Viridis')\n",
    "\n",
    "#Manufacturing Lead time distribution\n",
    "fig_manufacturing_lead_time = px.histogram(supply_chain_data, x='Manufacturing lead time', nbins=30,\n",
    "                                           title='Manufacturing Lead Time Distribution')\n",
    "                                           \n",
    "# Initialize the Dash app\n",
    "app = Dash(__name__)\n",
    "\n",
    "# Set Plotly default template\n",
    "pio.templates.default = \"plotly_white\"\n",
    "\n",
    "# Define callback for updating the chosen visualization\n",
    "@app.callback(\n",
    "    Output('visualization', 'figure'),\n",
    "    Input('visualization-type', 'value')\n",
    ")\n",
    "def update_visualization(selected_value):\n",
    "    if selected_value == 'stock-level':\n",
    "        return fig_stock_level\n",
    "    elif selected_value == 'Number-of-products-sold':\n",
    "        return fig_inventory_turnover\n",
    "    elif selected_value == 'revenue-chart':\n",
    "        return revenue_chart\n",
    "    elif selected_value == 'stock-chart':\n",
    "        return stock_chart\n",
    "    elif selected_value == 'order-quantity-chart':\n",
    "        return order_quantity_chart\n",
    "    elif selected_value == 'pie-chart':\n",
    "        return pie_chart\n",
    "    elif selected_value == 'relationship-pp':\n",
    "        return fig_relationship_pp\n",
    "    elif selected_value == 'transportation-chart':\n",
    "        return transportation_chart\n",
    "    elif selected_value == 'manufacturing-lead-time':\n",
    "        return fig_manufacturing_lead_time\n",
    "    elif selected_value == 'transportation-chart-defect-rate':\n",
    "        return transportation_chart_defect_rate\n",
    "    elif selected_value == 'customer-demographics':\n",
    "        return fig_customer_demographics\n",
    "\n",
    "# Dash Layout\n",
    "app.layout = html.Div([\n",
    "    html.H1(\"SUPPLY CHAIN ANALYTICS\", style={\"background-color\": \"skyblue\", \"textAlign\": \"center\"}),\n",
    "    html.Div([\n",
    "                html.P(f\"On-Time Delivery Rate: {on_time_delivery_rate:.2f}%\"),\n",
    "         html.P(f\"Average Stock Level: {average_stock_level:.2f}\"),\n",
    "        html.Div([\n",
    "            html.Label(\"Select Visualization:\"),\n",
    "            dcc.Dropdown(\n",
    "                id='visualization-type',\n",
    "                options=[\n",
    "                    {'label': 'Stock Levels Distribution', 'value': 'stock-level'},\n",
    "                    {'label': 'Number of products sold vs. Stock Levels', 'value': 'Number-of-products-sold'},\n",
    "                    {'label': 'Revenue Generated by SKU', 'value': 'revenue-chart'},\n",
    "                    {'label': 'Stock Levels by SKU', 'value': 'stock-chart'},\n",
    "                    {'label': 'Order Quantity by SKU', 'value': 'order-quantity-chart'},\n",
    "                    {'label': 'Sales by Product Type', 'value': 'pie-chart'},\n",
    "                    {'label': 'Relationship between Product prices and Revenue', 'value': 'relationship-pp'},\n",
    "                    {'label': 'Cost Distribution by Transportation Mode', 'value': 'transportation-chart'},\n",
    "                    {'label': 'Manufacturing Lead Time Distribution', 'value': 'manufacturing-lead-time'},\n",
    "                    {'label': 'Defect Rates by Transportation Mode', 'value': 'transportation-chart-defect-rate'},\n",
    "                    {'label': 'Customer Demographics Analysis', 'value': 'customer-demographics'},\n",
    "                ],\n",
    "                value='stock-level'\n",
    "            ),\n",
    "        ], style={'width': '30%', 'display': 'inline-block'}),\n",
    "        dcc.Graph(id='visualization'),\n",
    "    ]),\n",
    "    html.Div([\n",
    "        html.Div([\n",
    "            dcc.Graph(figure=fig_stock_level),\n",
    "        ], style={'width': '48%', 'display': 'inline-block'}),\n",
    "        html.Div([\n",
    "            dcc.Graph(figure=fig_inventory_turnover),\n",
    "        ], style={'width': '48%', 'display': 'inline-block'}),\n",
    "    ]),\n",
    "    html.Div([\n",
    "        html.Div([\n",
    "            dcc.Graph(figure=revenue_chart),\n",
    "        ], style={'width': '48%', 'display': 'inline-block'}),\n",
    "        html.Div([\n",
    "            dcc.Graph(figure=stock_chart),\n",
    "        ], style={'width': '48%', 'display': 'inline-block'}),\n",
    "    ]),\n",
    "    html.Div([\n",
    "        html.Div([\n",
    "            dcc.Graph(figure=order_quantity_chart),\n",
    "        ], style={'width': '48%', 'display': 'inline-block'}),\n",
    "        html.Div([\n",
    "            dcc.Graph(figure=pie_chart),\n",
    "        ], style={'width': '48%', 'display': 'inline-block'}),\n",
    "    ]),\n",
    "    html.Div([\n",
    "        html.Div([\n",
    "            dcc.Graph(figure=fig_relationship_pp),\n",
    "        ], style={'width': '48%', 'display': 'inline-block'}),\n",
    "        html.Div([\n",
    "            dcc.Graph(figure=transportation_chart),\n",
    "        ], style={'width': '48%', 'display': 'inline-block'}),\n",
    "    ]),\n",
    "    html.Div([\n",
    "        html.Div([\n",
    "            dcc.Graph(figure=fig_manufacturing_lead_time),\n",
    "        ], style={'width': '48%', 'display': 'inline-block'}),\n",
    "        html.Div([\n",
    "            dcc.Graph(figure=transportation_chart_defect_rate),\n",
    "        ], style={'width': '48%', 'display': 'inline-block'}),\n",
    "    ]),\n",
    "    html.Div([\n",
    "        dcc.Interval(\n",
    "            id='real-time-update-interval',\n",
    "            interval=60 * 1000,  # Update every 60 seconds\n",
    "            n_intervals=0\n",
    "        ),\n",
    "        html.P(id='real-time-update-text', style={\"textAlign\": \"center\"}),\n",
    "    ]),\n",
    "])\n",
    "\n",
    "# Update real-time text\n",
    "@app.callback(\n",
    "    Output('real-time-update-text', 'children'),\n",
    "    Input('real-time-update-interval', 'n_intervals')\n",
    ")\n",
    "def update_real_time_text(n_intervals):\n",
    "    return f\"Last updated at {pd.Timestamp.now()}\"\n",
    "\n",
    "# Run the app\n",
    "if __name__ == '__main__':\n",
    "    app.run_server(debug=True, port=8079)"
   ]
  },
  {
   "cell_type": "markdown",
   "metadata": {},
   "source": [
    "## 3. Theoretical Background\n",
    "\n",
    "SUPPLY CHAIN ANALYTICS:\n",
    "\n",
    "Data Analytics is used to manage, improve, and support the supply chain performance. Supply chain analytics is extremely important as it helps in cost reduction, mitigates risks through forecasting, thereby preparing for the future, and aids in efficient planning. Its importance is highlighted in one of the success stories that explain the major influence of supply chain analytics on organizations like Pfizer, highlighting shifts in culture and the ability to extract data for meaningful analysis.\n",
    "\n",
    "CONTEXTUAL INFORMATION:\n",
    "\n",
    "The project involves visualizing key information from the supply chain dataset of a Beauty and Fashion startup. It aims to extract meaningful information to understand the various aspects of the supply chain, aiding in fulfilling the goals of the project.\n",
    "\n",
    "OBJECTIVES:\n",
    "\n",
    "The project aims to achieve the following objectives:\n",
    "\n",
    "Optimizing Inventory Management: How to achieve a balance between having enough inventory to meet the needs and wants of the consumers while avoiding excess inventory that locks up capital? The aim is to determine the best balance between keeping an adequate stock level and achieving inventory turnover.\n",
    "\n",
    "Improving Supply Chain Efficiency: How can the production and shipping processes be improved to minimize delays and related costs? The aim is to improve supply chain efficiency by reducing lead times and improving shipping processes.\n",
    "\n",
    "Enhancing customer satisfaction: The aim is to study and improve areas influencing consumer satisfaction, such as on-time delivery and alignment with customer demographics."
   ]
  },
  {
   "cell_type": "markdown",
   "metadata": {},
   "source": [
    "## 4. Methodology\n",
    "\n",
    "DATA COLLECTION PROCESS:\n",
    "\n",
    "i) Data Sourcing: The data collection process was focused on finding the dataset that meets the project’s objectives. For this, specific columns to carry out KPIs calculations to perform the analysis were required. A normalized tabulated dataset was considered and sourced from a website- statso to ensure fair analysis and comparability. The dataset link can be found in the table of links.\n",
    "\n",
    "ii) Data Integrity: To guarantee the data's integrity, a study of each column's consistency and completeness was performed.\n",
    "\n",
    "REVIEW OF CHOSEN DATASETS:\n",
    "\n",
    "i) Data Structure: A Tabulated dataset consisting of 24 columns each representing a different aspect of the supply chain process in the startup, thus providing structured information.\n",
    "\n",
    "ii) Knowing the data: The dataset consists of various data types such as Text (Product type, SKU, Location, etc.), Numeric data types further classified into Continuous (Price, Production Volumes, Lead times, etc.), and Discrete (Availability). On measurement levels, the data types contained in the dataset are Nominal (Customer Demographics, Routes, etc.), Ordinal (Inspection results), and Interval/Ratio (Number of products sold, Shipping times, Costs, etc.). The dataset is moderately sized with 100 rows and 24 columns representing a comprehensive supply chain management process and provides insights into key aspects such as revenue generated, SKUs, stock levels, lead time, etc. It represents the dynamic nature of modern supply chain operations and allows the users to explore it, thus encouraging problem-solving, critical thinking, and visualization skills.\n",
    " The data is considered as Tidy as each variable is represented by a distinct column, indicating an organized and concise structure; each row represents a unique data point, and each cell in the dataset has a single value, which contributes to the dataset's clarity and simplicity.\n",
    " \n",
    "(iii) Data Relevance: The data is highly relevant in the domain of supply chain analytics for any business related to fashion, beauty, or cosmetics. It provides a rich source of information for analysis and visualization of the data to optimize operational efficiency.\n",
    "\n",
    "REVIEW OF AVAILABLE TOOLS: \n",
    "\n",
    "A Python Dash Framework was used while preparing the Dashboard, along with some Python libraries such as Plotly which was helpful in the creation of engaging and attractive charts; and Pandas library, for data manipulation and analysis, and calculation of KPIs. The HTML module under Dash was used extensively to give a layout and structure to the web page where the visualization is displayed.\n",
    "\n",
    "The choice of tools mainly depends on the requirements of the project, the size of the project, and its objectives. Some alternate tools and technologies that could have also been used to create a supply chain analytics dashboard are:\n",
    "\n",
    "Flask is a Python web framework that could be suitable for preparing the dashboard as it is lightweight and appropriate for small to medium-sized projects. It is easy to install and works well with other Python libraries. If used in this project, it could be used to build excellent RESTful APIs. However, it might not have been suitable for displaying real-time data in my dashboard, which in the case of Dash Framework is possible.\n",
    "\n",
    "Similarly, Microsoft Excel could have also been used in this project to create appealing visualizations. For people who don’t like coding, Excel is the best tool to work on and facilitates fast data analysis. It is better to use Excel where extensive Ad-hoc analysis and customizations are required. However, it can restrict the functionality of a dashboard if web-based interactivity or real-time collaboration is needed."
   ]
  },
  {
   "cell_type": "markdown",
   "metadata": {},
   "source": [
    "## 5. Review of Analytics Methods Chosen\n",
    "\n",
    "The analytics methods chosen to be applied were:\n",
    "\n",
    "Descriptive Analytics:\n",
    "\n",
    "It involves understanding and summarizing a supply chain’s current and historical data to provide insights into past performance. It aims to answer questions like “What happened?” and “What is the current state of affairs?”\n",
    "The descriptive analytics methods were applied to analyze the stock level trends in the stock levels distribution histogram, representing how the inventory is currently distributed and helping to identify the times of shortage or surplus. The scatter plot represents the relationship between stock levels and the number of products sold, showcasing how inventory turnover differs at various stock levels and how efficiently a business is managing its inventory by assessing how often it sells and replaces its stock. The pie chart showing sales by product type, and line chart displaying sales by SKUs aids in determining the product demand patterns and seasonality.\n",
    "\n",
    "Predictive Analytics: \n",
    "\n",
    "It involves forecasting future trends by focusing on historical data and helps in mitigating potential risks. It aims to answer questions like “What is likely to happen in the future?” and “What might be the possible results?” and “What could be done based on past or current insights?”\n",
    "Predictive methods have been applied to the visuals to support pro-active decision making. Executives can determine the future demand for the products, for instance in Sales by product type pie chart visual, aiding in the optimization of inventory management. Similarly, predictive analytics can help in estimating future sales based on historical patterns, for instance, sales by product type, and sales by SKUs, aiding in strategic planning.\n",
    "\n",
    "Collectively, these analytics methods combine insights from the past with foresight into the future to develop an in-depth approach to supply chain management."
   ]
  },
  {
   "cell_type": "markdown",
   "metadata": {},
   "source": [
    "## 6. Articulation of Decision-Making Process\n",
    "\n",
    "Thoughtful and strategic decision-making was employed starting with defining the objectives and the audiences of the report, gathering, and preparing the data, from selecting a correct visualization to implementing it.\n",
    "\n",
    "The first consideration was to create visuals that aligned with the objectives of the report. For instance, to improve supply chain efficiency, charts for manufacturing lead time and transportation costs were considered that offer insights into the efficiency of production and shipping processes. Managers can then visually analyze the information and understand the composition of transportation costs. They can then identify bottlenecks, make decisions to optimize production processes and make strategic decisions to reduce transportation costs, enhancing the overall supply chain efficiency. Similarly, SKU analysis charts were chosen to provide an overall picture of each product's performance, helping in inventory optimization decisions.\n",
    "However, to create some visuals, some KPIs such as Sales by product type, On-time delivery rate, etc. were calculated. The need for real-time decision support influenced the visualizations chosen. The interactive strategic type of dashboard allows executives and senior managers to explore the dataset, review what is going on, and ensure that decisions are based on the most up-to-date and relevant information. The visuals were prepared to keep in mind the principles of effective visualization and color theories.\n",
    "\n",
    "The charts were theoretically selected, for example, a bar chart, pie chart, or donut chart is best to use when showing categorical variables in the data that can take only one set of small values. Whereas a histogram, line chart, or scatter plot is best suited to display continuous variables that can take an infinite set of ordered values.\n",
    "Descriptive and Predictive analytics methods were carefully applied. For instance, the Sales by Product Type pie chart helps in forecasting future demand and supporting inventory optimization decisions. Similarly, analyzing manufacturing lead time distribution provides insights into future manufacturing and transportation needs, contributing to proactive decision-making.\n",
    "The chosen visualization was then updated and presented with a real-time text feature indicating the last update time, making sure that the insights and analyses were always current and up to date. Using the callback function, a dropdown component was added to make the dashboard interactive.\n",
    "\n",
    "Finally, the interpretation of visualizations and KPIs helped in drawing insights that led to the strategic recommendations and solutions to meet the objectives."
   ]
  },
  {
   "cell_type": "markdown",
   "metadata": {},
   "source": [
    "## 7. Visualization of Data with Accompanying Code\n",
    "\n",
    "“Effective decisions, efficiently made.” According to Andy Kirk, a design process must be followed that organizes your thinking, leading to effective decision-making which is a core competency in data visualization. A similar design process was followed while creating this report and the dashboard which includes 4 stages: Formulating your brief, working with data, establishing your editorial thinking, and developing the design solution. The last stage is the most important as it involves creating the dashboard.\n",
    "\n",
    "One of the key visualizations presented was stock levels distribution representing the frequency of different stock levels in inventory. The histogram was designed with a focus on conveying the distribution of stock levels, prioritizing the information to be shared, following the principle of “Diagram First” from the principles of effective data visualization. The bars in the histogram represent different stock level ranges. It effectively represents the distribution of stock levels, following the principle of “using an appropriate geometry”. The position of each bar on the x-axis shows the stock level range and the length of each bar corresponds to the count of products in that stock level range. The histogram was chosen because these marks and attributes in the chart emphasize the importance of visual encoding and the significance of selecting appropriate charts (As defined by Andy Kirk) and by using the histogram, the company can identify peak demand periods reflected in higher counts. This helps in planning for sufficient stock during these times to avoid stockouts.\n",
    "\n",
    "The visualization was created by first importing a plotly express module, px. histogram function was used to create the graph, then the data frame was made- “supply_chain_data”, “x= ‘Stock levels’” column in the data frame was represented on the x-axis. “nbins=30” specifies the number of bins (bars) in the histogram. This controls the size of the distribution. “title= ‘Stock levels Distribution’” sets the title to the chart, and the template ‘plotly white’ provides a clean white background, displaying the importance of not using background boxes (defined by Alberto Cairo). The colors of the bar were set using the “color discrete sequence” function, and finally “fig stock level” was the resulting chart stored in a variable.\n",
    "\n",
    "This visualization was created with the aim:\n",
    "•\tTo identify peak demand periods, \n",
    "•\tsafety stock considerations, i.e., the lower counts in certain stock level ranges suggest reassessing safety stock levels.\n",
    "By understanding the distribution of stock levels and analyzing the histogram, the company can make informed decisions to optimize inventory.\n",
    "\n",
    "Another key visualization that results in giving important information, eventually aiding in fulfilling the objective of improving supply chain efficiency is the “Relationship between product prices and revenue”. A scatter plot using a trend line chart was used as they are effective for visualizing the correlation between two variables (as per Stephen Few) and adding a trend line helps in understanding the overall trend. The scatter plot was chosen because it displays the correlation between the product prices and revenue generated by them for different types. The colors used in the chart signify different product types, thus enhancing the clarity of the visual, fulfilling the “Colors always mean something” principle of effective data visualization. \n",
    "\n",
    "The chart was prepared using plotly express representing the ‘price’ variable on the x-axis and ‘Revenue generated’ on the y-axis where each point represents a product with its respective price and revenue. The products were color-coded based on the product type making the visual look beautiful, attractive, and aesthetically pleasing for the users, thus making it an effective visualization. ‘px. scatter’ function was used to initialize the scatter plot and “title= ‘Relationship between Product prices and revenue’” provides a title for the scatter plot. The hover data displayed additional information (number of products sold) when hovering over each data point. “trendline=’ols’, calculated using OLS regression is overlaid on the scatter plot to represent the overall trend in the relationship between product prices and revenue.\n",
    "\n",
    "The scatter plot contains a significant number of data points and effectively communicates the correlation between the variables, and thus it aligns with Tufte’s principle of ‘Data Density and Detail’. The data-ink ratio is high by avoiding unnecessary gridlines.\n",
    "\n",
    "We can see that the company is earning more revenue from skincare products even though the prices get high. Therefore, supply chain managers can prioritize the stocking of these high-revenue products. They should be well-managed and readily available to meet the consumers' needs. Such information provides a more strategic approach to handle supply chain operations which leads to the overall improvement in supply chain efficiency.\n",
    "\n",
    "Similarly, all visualizations were created to fulfill the subject’s objectives by applying relevant visualization theories and principles while creating graphs."
   ]
  },
  {
   "cell_type": "code",
   "execution_count": 7,
   "metadata": {},
   "outputs": [
    {
     "data": {
      "application/vnd.plotly.v1+json": {
       "config": {
        "plotlyServerURL": "https://plot.ly"
       },
       "data": [
        {
         "alignmentgroup": "True",
         "bingroup": "x",
         "hovertemplate": "Stock levels=%{x}<br>count=%{y}<extra></extra>",
         "legendgroup": "",
         "marker": {
          "color": "#3498db",
          "pattern": {
           "shape": ""
          }
         },
         "name": "",
         "nbinsx": 30,
         "offsetgroup": "",
         "orientation": "v",
         "showlegend": false,
         "type": "histogram",
         "x": [
          58,
          53,
          1,
          23,
          5,
          90,
          11,
          93,
          5,
          14,
          51,
          46,
          100,
          80,
          54,
          9,
          2,
          45,
          10,
          48,
          27,
          69,
          71,
          84,
          4,
          82,
          59,
          47,
          48,
          45,
          60,
          6,
          89,
          4,
          1,
          42,
          18,
          25,
          69,
          78,
          90,
          64,
          22,
          36,
          13,
          93,
          92,
          4,
          30,
          97,
          31,
          100,
          64,
          96,
          33,
          97,
          25,
          5,
          10,
          100,
          41,
          32,
          86,
          54,
          73,
          57,
          13,
          12,
          0,
          95,
          10,
          76,
          57,
          17,
          41,
          16,
          38,
          96,
          5,
          31,
          39,
          48,
          42,
          65,
          73,
          15,
          32,
          5,
          60,
          90,
          66,
          98,
          90,
          63,
          77,
          15,
          67,
          46,
          53,
          55
         ],
         "xaxis": "x",
         "yaxis": "y"
        }
       ],
       "layout": {
        "barmode": "relative",
        "legend": {
         "tracegroupgap": 0
        },
        "template": {
         "data": {
          "bar": [
           {
            "error_x": {
             "color": "#2a3f5f"
            },
            "error_y": {
             "color": "#2a3f5f"
            },
            "marker": {
             "line": {
              "color": "white",
              "width": 0.5
             },
             "pattern": {
              "fillmode": "overlay",
              "size": 10,
              "solidity": 0.2
             }
            },
            "type": "bar"
           }
          ],
          "barpolar": [
           {
            "marker": {
             "line": {
              "color": "white",
              "width": 0.5
             },
             "pattern": {
              "fillmode": "overlay",
              "size": 10,
              "solidity": 0.2
             }
            },
            "type": "barpolar"
           }
          ],
          "carpet": [
           {
            "aaxis": {
             "endlinecolor": "#2a3f5f",
             "gridcolor": "#C8D4E3",
             "linecolor": "#C8D4E3",
             "minorgridcolor": "#C8D4E3",
             "startlinecolor": "#2a3f5f"
            },
            "baxis": {
             "endlinecolor": "#2a3f5f",
             "gridcolor": "#C8D4E3",
             "linecolor": "#C8D4E3",
             "minorgridcolor": "#C8D4E3",
             "startlinecolor": "#2a3f5f"
            },
            "type": "carpet"
           }
          ],
          "choropleth": [
           {
            "colorbar": {
             "outlinewidth": 0,
             "ticks": ""
            },
            "type": "choropleth"
           }
          ],
          "contour": [
           {
            "colorbar": {
             "outlinewidth": 0,
             "ticks": ""
            },
            "colorscale": [
             [
              0,
              "#0d0887"
             ],
             [
              0.1111111111111111,
              "#46039f"
             ],
             [
              0.2222222222222222,
              "#7201a8"
             ],
             [
              0.3333333333333333,
              "#9c179e"
             ],
             [
              0.4444444444444444,
              "#bd3786"
             ],
             [
              0.5555555555555556,
              "#d8576b"
             ],
             [
              0.6666666666666666,
              "#ed7953"
             ],
             [
              0.7777777777777778,
              "#fb9f3a"
             ],
             [
              0.8888888888888888,
              "#fdca26"
             ],
             [
              1,
              "#f0f921"
             ]
            ],
            "type": "contour"
           }
          ],
          "contourcarpet": [
           {
            "colorbar": {
             "outlinewidth": 0,
             "ticks": ""
            },
            "type": "contourcarpet"
           }
          ],
          "heatmap": [
           {
            "colorbar": {
             "outlinewidth": 0,
             "ticks": ""
            },
            "colorscale": [
             [
              0,
              "#0d0887"
             ],
             [
              0.1111111111111111,
              "#46039f"
             ],
             [
              0.2222222222222222,
              "#7201a8"
             ],
             [
              0.3333333333333333,
              "#9c179e"
             ],
             [
              0.4444444444444444,
              "#bd3786"
             ],
             [
              0.5555555555555556,
              "#d8576b"
             ],
             [
              0.6666666666666666,
              "#ed7953"
             ],
             [
              0.7777777777777778,
              "#fb9f3a"
             ],
             [
              0.8888888888888888,
              "#fdca26"
             ],
             [
              1,
              "#f0f921"
             ]
            ],
            "type": "heatmap"
           }
          ],
          "heatmapgl": [
           {
            "colorbar": {
             "outlinewidth": 0,
             "ticks": ""
            },
            "colorscale": [
             [
              0,
              "#0d0887"
             ],
             [
              0.1111111111111111,
              "#46039f"
             ],
             [
              0.2222222222222222,
              "#7201a8"
             ],
             [
              0.3333333333333333,
              "#9c179e"
             ],
             [
              0.4444444444444444,
              "#bd3786"
             ],
             [
              0.5555555555555556,
              "#d8576b"
             ],
             [
              0.6666666666666666,
              "#ed7953"
             ],
             [
              0.7777777777777778,
              "#fb9f3a"
             ],
             [
              0.8888888888888888,
              "#fdca26"
             ],
             [
              1,
              "#f0f921"
             ]
            ],
            "type": "heatmapgl"
           }
          ],
          "histogram": [
           {
            "marker": {
             "pattern": {
              "fillmode": "overlay",
              "size": 10,
              "solidity": 0.2
             }
            },
            "type": "histogram"
           }
          ],
          "histogram2d": [
           {
            "colorbar": {
             "outlinewidth": 0,
             "ticks": ""
            },
            "colorscale": [
             [
              0,
              "#0d0887"
             ],
             [
              0.1111111111111111,
              "#46039f"
             ],
             [
              0.2222222222222222,
              "#7201a8"
             ],
             [
              0.3333333333333333,
              "#9c179e"
             ],
             [
              0.4444444444444444,
              "#bd3786"
             ],
             [
              0.5555555555555556,
              "#d8576b"
             ],
             [
              0.6666666666666666,
              "#ed7953"
             ],
             [
              0.7777777777777778,
              "#fb9f3a"
             ],
             [
              0.8888888888888888,
              "#fdca26"
             ],
             [
              1,
              "#f0f921"
             ]
            ],
            "type": "histogram2d"
           }
          ],
          "histogram2dcontour": [
           {
            "colorbar": {
             "outlinewidth": 0,
             "ticks": ""
            },
            "colorscale": [
             [
              0,
              "#0d0887"
             ],
             [
              0.1111111111111111,
              "#46039f"
             ],
             [
              0.2222222222222222,
              "#7201a8"
             ],
             [
              0.3333333333333333,
              "#9c179e"
             ],
             [
              0.4444444444444444,
              "#bd3786"
             ],
             [
              0.5555555555555556,
              "#d8576b"
             ],
             [
              0.6666666666666666,
              "#ed7953"
             ],
             [
              0.7777777777777778,
              "#fb9f3a"
             ],
             [
              0.8888888888888888,
              "#fdca26"
             ],
             [
              1,
              "#f0f921"
             ]
            ],
            "type": "histogram2dcontour"
           }
          ],
          "mesh3d": [
           {
            "colorbar": {
             "outlinewidth": 0,
             "ticks": ""
            },
            "type": "mesh3d"
           }
          ],
          "parcoords": [
           {
            "line": {
             "colorbar": {
              "outlinewidth": 0,
              "ticks": ""
             }
            },
            "type": "parcoords"
           }
          ],
          "pie": [
           {
            "automargin": true,
            "type": "pie"
           }
          ],
          "scatter": [
           {
            "fillpattern": {
             "fillmode": "overlay",
             "size": 10,
             "solidity": 0.2
            },
            "type": "scatter"
           }
          ],
          "scatter3d": [
           {
            "line": {
             "colorbar": {
              "outlinewidth": 0,
              "ticks": ""
             }
            },
            "marker": {
             "colorbar": {
              "outlinewidth": 0,
              "ticks": ""
             }
            },
            "type": "scatter3d"
           }
          ],
          "scattercarpet": [
           {
            "marker": {
             "colorbar": {
              "outlinewidth": 0,
              "ticks": ""
             }
            },
            "type": "scattercarpet"
           }
          ],
          "scattergeo": [
           {
            "marker": {
             "colorbar": {
              "outlinewidth": 0,
              "ticks": ""
             }
            },
            "type": "scattergeo"
           }
          ],
          "scattergl": [
           {
            "marker": {
             "colorbar": {
              "outlinewidth": 0,
              "ticks": ""
             }
            },
            "type": "scattergl"
           }
          ],
          "scattermapbox": [
           {
            "marker": {
             "colorbar": {
              "outlinewidth": 0,
              "ticks": ""
             }
            },
            "type": "scattermapbox"
           }
          ],
          "scatterpolar": [
           {
            "marker": {
             "colorbar": {
              "outlinewidth": 0,
              "ticks": ""
             }
            },
            "type": "scatterpolar"
           }
          ],
          "scatterpolargl": [
           {
            "marker": {
             "colorbar": {
              "outlinewidth": 0,
              "ticks": ""
             }
            },
            "type": "scatterpolargl"
           }
          ],
          "scatterternary": [
           {
            "marker": {
             "colorbar": {
              "outlinewidth": 0,
              "ticks": ""
             }
            },
            "type": "scatterternary"
           }
          ],
          "surface": [
           {
            "colorbar": {
             "outlinewidth": 0,
             "ticks": ""
            },
            "colorscale": [
             [
              0,
              "#0d0887"
             ],
             [
              0.1111111111111111,
              "#46039f"
             ],
             [
              0.2222222222222222,
              "#7201a8"
             ],
             [
              0.3333333333333333,
              "#9c179e"
             ],
             [
              0.4444444444444444,
              "#bd3786"
             ],
             [
              0.5555555555555556,
              "#d8576b"
             ],
             [
              0.6666666666666666,
              "#ed7953"
             ],
             [
              0.7777777777777778,
              "#fb9f3a"
             ],
             [
              0.8888888888888888,
              "#fdca26"
             ],
             [
              1,
              "#f0f921"
             ]
            ],
            "type": "surface"
           }
          ],
          "table": [
           {
            "cells": {
             "fill": {
              "color": "#EBF0F8"
             },
             "line": {
              "color": "white"
             }
            },
            "header": {
             "fill": {
              "color": "#C8D4E3"
             },
             "line": {
              "color": "white"
             }
            },
            "type": "table"
           }
          ]
         },
         "layout": {
          "annotationdefaults": {
           "arrowcolor": "#2a3f5f",
           "arrowhead": 0,
           "arrowwidth": 1
          },
          "autotypenumbers": "strict",
          "coloraxis": {
           "colorbar": {
            "outlinewidth": 0,
            "ticks": ""
           }
          },
          "colorscale": {
           "diverging": [
            [
             0,
             "#8e0152"
            ],
            [
             0.1,
             "#c51b7d"
            ],
            [
             0.2,
             "#de77ae"
            ],
            [
             0.3,
             "#f1b6da"
            ],
            [
             0.4,
             "#fde0ef"
            ],
            [
             0.5,
             "#f7f7f7"
            ],
            [
             0.6,
             "#e6f5d0"
            ],
            [
             0.7,
             "#b8e186"
            ],
            [
             0.8,
             "#7fbc41"
            ],
            [
             0.9,
             "#4d9221"
            ],
            [
             1,
             "#276419"
            ]
           ],
           "sequential": [
            [
             0,
             "#0d0887"
            ],
            [
             0.1111111111111111,
             "#46039f"
            ],
            [
             0.2222222222222222,
             "#7201a8"
            ],
            [
             0.3333333333333333,
             "#9c179e"
            ],
            [
             0.4444444444444444,
             "#bd3786"
            ],
            [
             0.5555555555555556,
             "#d8576b"
            ],
            [
             0.6666666666666666,
             "#ed7953"
            ],
            [
             0.7777777777777778,
             "#fb9f3a"
            ],
            [
             0.8888888888888888,
             "#fdca26"
            ],
            [
             1,
             "#f0f921"
            ]
           ],
           "sequentialminus": [
            [
             0,
             "#0d0887"
            ],
            [
             0.1111111111111111,
             "#46039f"
            ],
            [
             0.2222222222222222,
             "#7201a8"
            ],
            [
             0.3333333333333333,
             "#9c179e"
            ],
            [
             0.4444444444444444,
             "#bd3786"
            ],
            [
             0.5555555555555556,
             "#d8576b"
            ],
            [
             0.6666666666666666,
             "#ed7953"
            ],
            [
             0.7777777777777778,
             "#fb9f3a"
            ],
            [
             0.8888888888888888,
             "#fdca26"
            ],
            [
             1,
             "#f0f921"
            ]
           ]
          },
          "colorway": [
           "#636efa",
           "#EF553B",
           "#00cc96",
           "#ab63fa",
           "#FFA15A",
           "#19d3f3",
           "#FF6692",
           "#B6E880",
           "#FF97FF",
           "#FECB52"
          ],
          "font": {
           "color": "#2a3f5f"
          },
          "geo": {
           "bgcolor": "white",
           "lakecolor": "white",
           "landcolor": "white",
           "showlakes": true,
           "showland": true,
           "subunitcolor": "#C8D4E3"
          },
          "hoverlabel": {
           "align": "left"
          },
          "hovermode": "closest",
          "mapbox": {
           "style": "light"
          },
          "paper_bgcolor": "white",
          "plot_bgcolor": "white",
          "polar": {
           "angularaxis": {
            "gridcolor": "#EBF0F8",
            "linecolor": "#EBF0F8",
            "ticks": ""
           },
           "bgcolor": "white",
           "radialaxis": {
            "gridcolor": "#EBF0F8",
            "linecolor": "#EBF0F8",
            "ticks": ""
           }
          },
          "scene": {
           "xaxis": {
            "backgroundcolor": "white",
            "gridcolor": "#DFE8F3",
            "gridwidth": 2,
            "linecolor": "#EBF0F8",
            "showbackground": true,
            "ticks": "",
            "zerolinecolor": "#EBF0F8"
           },
           "yaxis": {
            "backgroundcolor": "white",
            "gridcolor": "#DFE8F3",
            "gridwidth": 2,
            "linecolor": "#EBF0F8",
            "showbackground": true,
            "ticks": "",
            "zerolinecolor": "#EBF0F8"
           },
           "zaxis": {
            "backgroundcolor": "white",
            "gridcolor": "#DFE8F3",
            "gridwidth": 2,
            "linecolor": "#EBF0F8",
            "showbackground": true,
            "ticks": "",
            "zerolinecolor": "#EBF0F8"
           }
          },
          "shapedefaults": {
           "line": {
            "color": "#2a3f5f"
           }
          },
          "ternary": {
           "aaxis": {
            "gridcolor": "#DFE8F3",
            "linecolor": "#A2B1C6",
            "ticks": ""
           },
           "baxis": {
            "gridcolor": "#DFE8F3",
            "linecolor": "#A2B1C6",
            "ticks": ""
           },
           "bgcolor": "white",
           "caxis": {
            "gridcolor": "#DFE8F3",
            "linecolor": "#A2B1C6",
            "ticks": ""
           }
          },
          "title": {
           "x": 0.05
          },
          "xaxis": {
           "automargin": true,
           "gridcolor": "#EBF0F8",
           "linecolor": "#EBF0F8",
           "ticks": "",
           "title": {
            "standoff": 15
           },
           "zerolinecolor": "#EBF0F8",
           "zerolinewidth": 2
          },
          "yaxis": {
           "automargin": true,
           "gridcolor": "#EBF0F8",
           "linecolor": "#EBF0F8",
           "ticks": "",
           "title": {
            "standoff": 15
           },
           "zerolinecolor": "#EBF0F8",
           "zerolinewidth": 2
          }
         }
        },
        "title": {
         "text": "Stock Levels Distribution"
        },
        "xaxis": {
         "anchor": "y",
         "domain": [
          0,
          1
         ],
         "title": {
          "text": "Stock levels"
         }
        },
        "yaxis": {
         "anchor": "x",
         "domain": [
          0,
          1
         ],
         "title": {
          "text": "count"
         }
        }
       }
      },
      "text/html": [
       "<div>                            <div id=\"e164a8ba-874c-49db-a28d-1e9678f4369f\" class=\"plotly-graph-div\" style=\"height:525px; width:100%;\"></div>            <script type=\"text/javascript\">                require([\"plotly\"], function(Plotly) {                    window.PLOTLYENV=window.PLOTLYENV || {};                                    if (document.getElementById(\"e164a8ba-874c-49db-a28d-1e9678f4369f\")) {                    Plotly.newPlot(                        \"e164a8ba-874c-49db-a28d-1e9678f4369f\",                        [{\"alignmentgroup\":\"True\",\"bingroup\":\"x\",\"hovertemplate\":\"Stock levels=%{x}<br>count=%{y}<extra></extra>\",\"legendgroup\":\"\",\"marker\":{\"color\":\"#3498db\",\"pattern\":{\"shape\":\"\"}},\"name\":\"\",\"nbinsx\":30,\"offsetgroup\":\"\",\"orientation\":\"v\",\"showlegend\":false,\"x\":[58,53,1,23,5,90,11,93,5,14,51,46,100,80,54,9,2,45,10,48,27,69,71,84,4,82,59,47,48,45,60,6,89,4,1,42,18,25,69,78,90,64,22,36,13,93,92,4,30,97,31,100,64,96,33,97,25,5,10,100,41,32,86,54,73,57,13,12,0,95,10,76,57,17,41,16,38,96,5,31,39,48,42,65,73,15,32,5,60,90,66,98,90,63,77,15,67,46,53,55],\"xaxis\":\"x\",\"yaxis\":\"y\",\"type\":\"histogram\"}],                        {\"template\":{\"data\":{\"histogram2dcontour\":[{\"type\":\"histogram2dcontour\",\"colorbar\":{\"outlinewidth\":0,\"ticks\":\"\"},\"colorscale\":[[0.0,\"#0d0887\"],[0.1111111111111111,\"#46039f\"],[0.2222222222222222,\"#7201a8\"],[0.3333333333333333,\"#9c179e\"],[0.4444444444444444,\"#bd3786\"],[0.5555555555555556,\"#d8576b\"],[0.6666666666666666,\"#ed7953\"],[0.7777777777777778,\"#fb9f3a\"],[0.8888888888888888,\"#fdca26\"],[1.0,\"#f0f921\"]]}],\"choropleth\":[{\"type\":\"choropleth\",\"colorbar\":{\"outlinewidth\":0,\"ticks\":\"\"}}],\"histogram2d\":[{\"type\":\"histogram2d\",\"colorbar\":{\"outlinewidth\":0,\"ticks\":\"\"},\"colorscale\":[[0.0,\"#0d0887\"],[0.1111111111111111,\"#46039f\"],[0.2222222222222222,\"#7201a8\"],[0.3333333333333333,\"#9c179e\"],[0.4444444444444444,\"#bd3786\"],[0.5555555555555556,\"#d8576b\"],[0.6666666666666666,\"#ed7953\"],[0.7777777777777778,\"#fb9f3a\"],[0.8888888888888888,\"#fdca26\"],[1.0,\"#f0f921\"]]}],\"heatmap\":[{\"type\":\"heatmap\",\"colorbar\":{\"outlinewidth\":0,\"ticks\":\"\"},\"colorscale\":[[0.0,\"#0d0887\"],[0.1111111111111111,\"#46039f\"],[0.2222222222222222,\"#7201a8\"],[0.3333333333333333,\"#9c179e\"],[0.4444444444444444,\"#bd3786\"],[0.5555555555555556,\"#d8576b\"],[0.6666666666666666,\"#ed7953\"],[0.7777777777777778,\"#fb9f3a\"],[0.8888888888888888,\"#fdca26\"],[1.0,\"#f0f921\"]]}],\"heatmapgl\":[{\"type\":\"heatmapgl\",\"colorbar\":{\"outlinewidth\":0,\"ticks\":\"\"},\"colorscale\":[[0.0,\"#0d0887\"],[0.1111111111111111,\"#46039f\"],[0.2222222222222222,\"#7201a8\"],[0.3333333333333333,\"#9c179e\"],[0.4444444444444444,\"#bd3786\"],[0.5555555555555556,\"#d8576b\"],[0.6666666666666666,\"#ed7953\"],[0.7777777777777778,\"#fb9f3a\"],[0.8888888888888888,\"#fdca26\"],[1.0,\"#f0f921\"]]}],\"contourcarpet\":[{\"type\":\"contourcarpet\",\"colorbar\":{\"outlinewidth\":0,\"ticks\":\"\"}}],\"contour\":[{\"type\":\"contour\",\"colorbar\":{\"outlinewidth\":0,\"ticks\":\"\"},\"colorscale\":[[0.0,\"#0d0887\"],[0.1111111111111111,\"#46039f\"],[0.2222222222222222,\"#7201a8\"],[0.3333333333333333,\"#9c179e\"],[0.4444444444444444,\"#bd3786\"],[0.5555555555555556,\"#d8576b\"],[0.6666666666666666,\"#ed7953\"],[0.7777777777777778,\"#fb9f3a\"],[0.8888888888888888,\"#fdca26\"],[1.0,\"#f0f921\"]]}],\"surface\":[{\"type\":\"surface\",\"colorbar\":{\"outlinewidth\":0,\"ticks\":\"\"},\"colorscale\":[[0.0,\"#0d0887\"],[0.1111111111111111,\"#46039f\"],[0.2222222222222222,\"#7201a8\"],[0.3333333333333333,\"#9c179e\"],[0.4444444444444444,\"#bd3786\"],[0.5555555555555556,\"#d8576b\"],[0.6666666666666666,\"#ed7953\"],[0.7777777777777778,\"#fb9f3a\"],[0.8888888888888888,\"#fdca26\"],[1.0,\"#f0f921\"]]}],\"mesh3d\":[{\"type\":\"mesh3d\",\"colorbar\":{\"outlinewidth\":0,\"ticks\":\"\"}}],\"scatter\":[{\"fillpattern\":{\"fillmode\":\"overlay\",\"size\":10,\"solidity\":0.2},\"type\":\"scatter\"}],\"parcoords\":[{\"type\":\"parcoords\",\"line\":{\"colorbar\":{\"outlinewidth\":0,\"ticks\":\"\"}}}],\"scatterpolargl\":[{\"type\":\"scatterpolargl\",\"marker\":{\"colorbar\":{\"outlinewidth\":0,\"ticks\":\"\"}}}],\"bar\":[{\"error_x\":{\"color\":\"#2a3f5f\"},\"error_y\":{\"color\":\"#2a3f5f\"},\"marker\":{\"line\":{\"color\":\"white\",\"width\":0.5},\"pattern\":{\"fillmode\":\"overlay\",\"size\":10,\"solidity\":0.2}},\"type\":\"bar\"}],\"scattergeo\":[{\"type\":\"scattergeo\",\"marker\":{\"colorbar\":{\"outlinewidth\":0,\"ticks\":\"\"}}}],\"scatterpolar\":[{\"type\":\"scatterpolar\",\"marker\":{\"colorbar\":{\"outlinewidth\":0,\"ticks\":\"\"}}}],\"histogram\":[{\"marker\":{\"pattern\":{\"fillmode\":\"overlay\",\"size\":10,\"solidity\":0.2}},\"type\":\"histogram\"}],\"scattergl\":[{\"type\":\"scattergl\",\"marker\":{\"colorbar\":{\"outlinewidth\":0,\"ticks\":\"\"}}}],\"scatter3d\":[{\"type\":\"scatter3d\",\"line\":{\"colorbar\":{\"outlinewidth\":0,\"ticks\":\"\"}},\"marker\":{\"colorbar\":{\"outlinewidth\":0,\"ticks\":\"\"}}}],\"scattermapbox\":[{\"type\":\"scattermapbox\",\"marker\":{\"colorbar\":{\"outlinewidth\":0,\"ticks\":\"\"}}}],\"scatterternary\":[{\"type\":\"scatterternary\",\"marker\":{\"colorbar\":{\"outlinewidth\":0,\"ticks\":\"\"}}}],\"scattercarpet\":[{\"type\":\"scattercarpet\",\"marker\":{\"colorbar\":{\"outlinewidth\":0,\"ticks\":\"\"}}}],\"carpet\":[{\"aaxis\":{\"endlinecolor\":\"#2a3f5f\",\"gridcolor\":\"#C8D4E3\",\"linecolor\":\"#C8D4E3\",\"minorgridcolor\":\"#C8D4E3\",\"startlinecolor\":\"#2a3f5f\"},\"baxis\":{\"endlinecolor\":\"#2a3f5f\",\"gridcolor\":\"#C8D4E3\",\"linecolor\":\"#C8D4E3\",\"minorgridcolor\":\"#C8D4E3\",\"startlinecolor\":\"#2a3f5f\"},\"type\":\"carpet\"}],\"table\":[{\"cells\":{\"fill\":{\"color\":\"#EBF0F8\"},\"line\":{\"color\":\"white\"}},\"header\":{\"fill\":{\"color\":\"#C8D4E3\"},\"line\":{\"color\":\"white\"}},\"type\":\"table\"}],\"barpolar\":[{\"marker\":{\"line\":{\"color\":\"white\",\"width\":0.5},\"pattern\":{\"fillmode\":\"overlay\",\"size\":10,\"solidity\":0.2}},\"type\":\"barpolar\"}],\"pie\":[{\"automargin\":true,\"type\":\"pie\"}]},\"layout\":{\"autotypenumbers\":\"strict\",\"colorway\":[\"#636efa\",\"#EF553B\",\"#00cc96\",\"#ab63fa\",\"#FFA15A\",\"#19d3f3\",\"#FF6692\",\"#B6E880\",\"#FF97FF\",\"#FECB52\"],\"font\":{\"color\":\"#2a3f5f\"},\"hovermode\":\"closest\",\"hoverlabel\":{\"align\":\"left\"},\"paper_bgcolor\":\"white\",\"plot_bgcolor\":\"white\",\"polar\":{\"bgcolor\":\"white\",\"angularaxis\":{\"gridcolor\":\"#EBF0F8\",\"linecolor\":\"#EBF0F8\",\"ticks\":\"\"},\"radialaxis\":{\"gridcolor\":\"#EBF0F8\",\"linecolor\":\"#EBF0F8\",\"ticks\":\"\"}},\"ternary\":{\"bgcolor\":\"white\",\"aaxis\":{\"gridcolor\":\"#DFE8F3\",\"linecolor\":\"#A2B1C6\",\"ticks\":\"\"},\"baxis\":{\"gridcolor\":\"#DFE8F3\",\"linecolor\":\"#A2B1C6\",\"ticks\":\"\"},\"caxis\":{\"gridcolor\":\"#DFE8F3\",\"linecolor\":\"#A2B1C6\",\"ticks\":\"\"}},\"coloraxis\":{\"colorbar\":{\"outlinewidth\":0,\"ticks\":\"\"}},\"colorscale\":{\"sequential\":[[0.0,\"#0d0887\"],[0.1111111111111111,\"#46039f\"],[0.2222222222222222,\"#7201a8\"],[0.3333333333333333,\"#9c179e\"],[0.4444444444444444,\"#bd3786\"],[0.5555555555555556,\"#d8576b\"],[0.6666666666666666,\"#ed7953\"],[0.7777777777777778,\"#fb9f3a\"],[0.8888888888888888,\"#fdca26\"],[1.0,\"#f0f921\"]],\"sequentialminus\":[[0.0,\"#0d0887\"],[0.1111111111111111,\"#46039f\"],[0.2222222222222222,\"#7201a8\"],[0.3333333333333333,\"#9c179e\"],[0.4444444444444444,\"#bd3786\"],[0.5555555555555556,\"#d8576b\"],[0.6666666666666666,\"#ed7953\"],[0.7777777777777778,\"#fb9f3a\"],[0.8888888888888888,\"#fdca26\"],[1.0,\"#f0f921\"]],\"diverging\":[[0,\"#8e0152\"],[0.1,\"#c51b7d\"],[0.2,\"#de77ae\"],[0.3,\"#f1b6da\"],[0.4,\"#fde0ef\"],[0.5,\"#f7f7f7\"],[0.6,\"#e6f5d0\"],[0.7,\"#b8e186\"],[0.8,\"#7fbc41\"],[0.9,\"#4d9221\"],[1,\"#276419\"]]},\"xaxis\":{\"gridcolor\":\"#EBF0F8\",\"linecolor\":\"#EBF0F8\",\"ticks\":\"\",\"title\":{\"standoff\":15},\"zerolinecolor\":\"#EBF0F8\",\"automargin\":true,\"zerolinewidth\":2},\"yaxis\":{\"gridcolor\":\"#EBF0F8\",\"linecolor\":\"#EBF0F8\",\"ticks\":\"\",\"title\":{\"standoff\":15},\"zerolinecolor\":\"#EBF0F8\",\"automargin\":true,\"zerolinewidth\":2},\"scene\":{\"xaxis\":{\"backgroundcolor\":\"white\",\"gridcolor\":\"#DFE8F3\",\"linecolor\":\"#EBF0F8\",\"showbackground\":true,\"ticks\":\"\",\"zerolinecolor\":\"#EBF0F8\",\"gridwidth\":2},\"yaxis\":{\"backgroundcolor\":\"white\",\"gridcolor\":\"#DFE8F3\",\"linecolor\":\"#EBF0F8\",\"showbackground\":true,\"ticks\":\"\",\"zerolinecolor\":\"#EBF0F8\",\"gridwidth\":2},\"zaxis\":{\"backgroundcolor\":\"white\",\"gridcolor\":\"#DFE8F3\",\"linecolor\":\"#EBF0F8\",\"showbackground\":true,\"ticks\":\"\",\"zerolinecolor\":\"#EBF0F8\",\"gridwidth\":2}},\"shapedefaults\":{\"line\":{\"color\":\"#2a3f5f\"}},\"annotationdefaults\":{\"arrowcolor\":\"#2a3f5f\",\"arrowhead\":0,\"arrowwidth\":1},\"geo\":{\"bgcolor\":\"white\",\"landcolor\":\"white\",\"subunitcolor\":\"#C8D4E3\",\"showland\":true,\"showlakes\":true,\"lakecolor\":\"white\"},\"title\":{\"x\":0.05},\"mapbox\":{\"style\":\"light\"}}},\"xaxis\":{\"anchor\":\"y\",\"domain\":[0.0,1.0],\"title\":{\"text\":\"Stock levels\"}},\"yaxis\":{\"anchor\":\"x\",\"domain\":[0.0,1.0],\"title\":{\"text\":\"count\"}},\"legend\":{\"tracegroupgap\":0},\"title\":{\"text\":\"Stock Levels Distribution\"},\"barmode\":\"relative\"},                        {\"responsive\": true}                    ).then(function(){\n",
       "                            \n",
       "var gd = document.getElementById('e164a8ba-874c-49db-a28d-1e9678f4369f');\n",
       "var x = new MutationObserver(function (mutations, observer) {{\n",
       "        var display = window.getComputedStyle(gd).display;\n",
       "        if (!display || display === 'none') {{\n",
       "            console.log([gd, 'removed!']);\n",
       "            Plotly.purge(gd);\n",
       "            observer.disconnect();\n",
       "        }}\n",
       "}});\n",
       "\n",
       "// Listen for the removal of the full notebook cells\n",
       "var notebookContainer = gd.closest('#notebook-container');\n",
       "if (notebookContainer) {{\n",
       "    x.observe(notebookContainer, {childList: true});\n",
       "}}\n",
       "\n",
       "// Listen for the clearing of the current output cell\n",
       "var outputEl = gd.closest('.output');\n",
       "if (outputEl) {{\n",
       "    x.observe(outputEl, {childList: true});\n",
       "}}\n",
       "\n",
       "                        })                };                });            </script>        </div>"
      ]
     },
     "metadata": {},
     "output_type": "display_data"
    },
    {
     "data": {
      "application/vnd.plotly.v1+json": {
       "config": {
        "plotlyServerURL": "https://plot.ly"
       },
       "data": [
        {
         "customdata": [
          [
           802
          ],
          [
           8
          ],
          [
           147
          ],
          [
           336
          ],
          [
           620
          ],
          [
           884
          ],
          [
           209
          ],
          [
           142
          ],
          [
           353
          ],
          [
           327
          ],
          [
           598
          ],
          [
           24
          ],
          [
           859
          ],
          [
           29
          ],
          [
           154
          ],
          [
           622
          ],
          [
           701
          ],
          [
           227
          ],
          [
           117
          ],
          [
           163
          ],
          [
           32
          ],
          [
           904
          ],
          [
           241
          ],
          [
           359
          ],
          [
           946
          ],
          [
           198
          ],
          [
           774
          ],
          [
           663
          ],
          [
           618
          ],
          [
           79
          ],
          [
           114
          ],
          [
           672
          ],
          [
           62
          ],
          [
           627
          ]
         ],
         "hovertemplate": "Product type=haircare<br>Price=%{x}<br>Revenue generated=%{y}<br>Number of products sold=%{customdata[0]}<extra></extra>",
         "legendgroup": "haircare",
         "marker": {
          "color": "#636efa",
          "symbol": "circle"
         },
         "mode": "markers",
         "name": "haircare",
         "orientation": "v",
         "showlegend": true,
         "type": "scatter",
         "x": [
          69.80800554211577,
          11.319683293090566,
          1.6999760138659377,
          71.21338907536008,
          36.443627770460935,
          27.67978088650196,
          4.156308359311108,
          39.62934398509263,
          97.44694661789282,
          8.022859210526393,
          11.74327177630924,
          33.78413803306551,
          27.0822071998889,
          76.03554442689172,
          26.70076097246173,
          31.146243160240854,
          79.85505834078943,
          49.26320535073416,
          52.02874990329492,
          37.93181238279032,
          47.914541824058766,
          3.170011413566155,
          69.10879954743032,
          57.44974295897148,
          6.306883176111915,
          57.05703122110322,
          72.81920693031822,
          68.91124621160633,
          89.10436729210225,
          80.41403665035574,
          69.29083100290549,
          77.90392721944775,
          3.526111259143416,
          68.51783269927664
         ],
         "xaxis": "x",
         "y": [
          8661.996792392383,
          9577.74962586873,
          2828.348745975759,
          2873.7414460214413,
          9364.673505076173,
          2390.8078665561734,
          9049.077860939897,
          2174.777054350654,
          3716.493325894037,
          2766.342366866089,
          5737.425599119023,
          5267.956807510521,
          2556.767360633596,
          7397.07100458718,
          9866.465457979695,
          6088.021479940859,
          2925.6751703038126,
          1605.8669003924058,
          6885.589350896253,
          3550.218432780992,
          7014.887987203389,
          5709.945295969287,
          5328.375984297758,
          2483.7601775427947,
          1292.4584179377562,
          7888.723268427081,
          4384.413400045863,
          2411.754632110491,
          2048.2900998487103,
          5133.846701086692,
          4531.4021336919095,
          7386.363944048664,
          4370.916579984536,
          9185.185829181704
         ],
         "yaxis": "y"
        },
        {
         "hovertemplate": "<b>OLS trendline</b><br>Revenue generated = -4.1918 * Price + 5323.92<br>R<sup>2</sup>=0.002087<br><br>Product type=haircare<br>Price=%{x}<br>Revenue generated=%{y} <b>(trend)</b><extra></extra>",
         "legendgroup": "haircare",
         "marker": {
          "color": "#636efa",
          "symbol": "circle"
         },
         "mode": "lines",
         "name": "haircare",
         "showlegend": false,
         "type": "scatter",
         "x": [
          1.6999760138659377,
          3.170011413566155,
          3.526111259143416,
          4.156308359311108,
          6.306883176111915,
          8.022859210526393,
          11.319683293090566,
          11.74327177630924,
          26.70076097246173,
          27.0822071998889,
          27.67978088650196,
          31.146243160240854,
          33.78413803306551,
          36.443627770460935,
          37.93181238279032,
          39.62934398509263,
          47.914541824058766,
          49.26320535073416,
          52.02874990329492,
          57.05703122110322,
          57.44974295897148,
          68.51783269927664,
          68.91124621160633,
          69.10879954743032,
          69.29083100290549,
          69.80800554211577,
          71.21338907536008,
          72.81920693031822,
          76.03554442689172,
          77.90392721944775,
          79.85505834078943,
          80.41403665035574,
          89.10436729210225,
          97.44694661789282
         ],
         "xaxis": "x",
         "y": [
          5316.7977368723605,
          5310.635637773881,
          5309.142937300241,
          5306.501275076597,
          5297.4864886690575,
          5290.293454829986,
          5276.47381707762,
          5274.698217516479,
          5211.999366380027,
          5210.400418861738,
          5207.8955075675585,
          5193.364779901903,
          5182.307243722142,
          5171.159186119882,
          5164.921009093754,
          5157.805290684306,
          5123.07537183703,
          5117.422039744773,
          5105.829421228503,
          5084.751855489825,
          5083.1056851687745,
          5036.710431133037,
          5035.061319111551,
          5034.23321440548,
          5033.470174367188,
          5031.302280476691,
          5025.411189279167,
          5018.679916849689,
          5005.197663026359,
          4997.365770050195,
          4989.187012364302,
          4986.843885295287,
          4950.415729467264,
          4915.445278719665
         ],
         "yaxis": "y"
        },
        {
         "customdata": [
          [
           736
          ],
          [
           83
          ],
          [
           871
          ],
          [
           65
          ],
          [
           980
          ],
          [
           996
          ],
          [
           960
          ],
          [
           249
          ],
          [
           562
          ],
          [
           469
          ],
          [
           280
          ],
          [
           187
          ],
          [
           320
          ],
          [
           168
          ],
          [
           781
          ],
          [
           602
          ],
          [
           963
          ],
          [
           963
          ],
          [
           176
          ],
          [
           933
          ],
          [
           556
          ],
          [
           155
          ],
          [
           910
          ],
          [
           820
          ],
          [
           242
          ],
          [
           93
          ],
          [
           896
          ],
          [
           380
          ],
          [
           246
          ],
          [
           134
          ],
          [
           457
          ],
          [
           704
          ],
          [
           513
          ],
          [
           511
          ],
          [
           106
          ],
          [
           872
          ],
          [
           336
          ],
          [
           223
          ],
          [
           320
          ],
          [
           913
          ]
         ],
         "hovertemplate": "Product type=skincare<br>Price=%{x}<br>Revenue generated=%{y}<br>Number of products sold=%{customdata[0]}<extra></extra>",
         "legendgroup": "skincare",
         "marker": {
          "color": "#EF553B",
          "symbol": "circle"
         },
         "mode": "markers",
         "name": "skincare",
         "orientation": "v",
         "showlegend": true,
         "type": "scatter",
         "x": [
          14.84352327508434,
          61.163343016437736,
          4.805496036345893,
          4.078332863107945,
          64.01573294127854,
          15.707795681912138,
          90.63545998228868,
          16.160393317379977,
          99.1713286386242,
          36.98924492862691,
          7.547172109791272,
          51.12387008796474,
          96.34107243996338,
          50.8473930517187,
          79.20993601565672,
          37.46759232984246,
          9.813002578754052,
          23.39984475261435,
          19.127477265823256,
          80.54142417094033,
          99.11329161531717,
          46.52916761451677,
          95.71213588093607,
          98.03182965646508,
          30.34147071121421,
          20.986386037043378,
          59.84156137728931,
          17.028027920188702,
          13.017376785287857,
          89.63409560813533,
          33.69771720664313,
          26.03486977396209,
          87.75543235400107,
          54.86552851706979,
          92.99688423397066,
          91.12831835044432,
          17.034930739467917,
          19.99817694040422,
          13.881913501359142,
          19.7546048668786
         ],
         "xaxis": "x",
         "y": [
          7460.900065445849,
          7766.836425685233,
          2686.505151567447,
          7823.476559531737,
          4971.145987585558,
          2330.965802091949,
          6099.944115581452,
          4052.738416237866,
          8653.570926469802,
          5442.086785397673,
          6453.797968176285,
          2553.495584991215,
          8128.027696851192,
          9655.135102719398,
          9571.55048732782,
          9061.710895507724,
          7573.402457848733,
          2438.339930470029,
          1912.4656631007608,
          5724.959350456265,
          5521.205259010972,
          1839.609425856764,
          7089.474249934186,
          9435.76260891213,
          8232.334829425821,
          4767.020484344137,
          2021.149810337108,
          8864.084349586436,
          4256.949140850225,
          8458.730878367178,
          8354.579686481995,
          8367.721618020154,
          9473.798032508335,
          1752.3810874841247,
          1889.073589779335,
          8651.672682982065,
          2943.3818676094515,
          1229.5910285649834,
          9592.633570280312,
          8525.952559683526
         ],
         "yaxis": "y"
        },
        {
         "hovertemplate": "<b>OLS trendline</b><br>Revenue generated = 19.9126 * Price + 5099.65<br>R<sup>2</sup>=0.054398<br><br>Product type=skincare<br>Price=%{x}<br>Revenue generated=%{y} <b>(trend)</b><extra></extra>",
         "legendgroup": "skincare",
         "marker": {
          "color": "#EF553B",
          "symbol": "circle"
         },
         "mode": "lines",
         "name": "skincare",
         "showlegend": false,
         "type": "scatter",
         "x": [
          4.078332863107945,
          4.805496036345893,
          7.547172109791272,
          9.813002578754052,
          13.017376785287857,
          13.881913501359142,
          14.84352327508434,
          15.707795681912138,
          16.160393317379977,
          17.028027920188702,
          17.034930739467917,
          19.127477265823256,
          19.7546048668786,
          19.99817694040422,
          20.986386037043378,
          23.39984475261435,
          26.03486977396209,
          30.34147071121421,
          33.69771720664313,
          36.98924492862691,
          37.46759232984246,
          46.52916761451677,
          50.8473930517187,
          51.12387008796474,
          54.86552851706979,
          59.84156137728931,
          61.163343016437736,
          64.01573294127854,
          79.20993601565672,
          80.54142417094033,
          87.75543235400107,
          89.63409560813533,
          90.63545998228868,
          91.12831835044432,
          92.99688423397066,
          95.71213588093607,
          96.34107243996338,
          98.03182965646508,
          99.11329161531717,
          99.1713286386242
         ],
         "xaxis": "x",
         "y": [
          5180.857755518091,
          5195.337471599116,
          5249.93139575627,
          5295.04999235987,
          5358.85744361096,
          5376.072625362523,
          5395.220784973355,
          5412.430703638248,
          5421.44310347051,
          5438.719972229968,
          5438.857425372537,
          5480.52548654929,
          5493.013233377035,
          5497.863388885066,
          5517.5412104176185,
          5565.599470600313,
          5618.069694038081,
          5703.825355409123,
          5770.656980194724,
          5836.199885337903,
          5845.725030192057,
          6026.164637418949,
          6112.151772914441,
          6117.657152085308,
          6192.163334080701,
          6291.2491317084805,
          6317.569252914231,
          6374.367778725376,
          6676.924006394016,
          6703.437409662096,
          6847.0871352550175,
          6884.49622242123,
          6904.435999853618,
          6914.2500959213185,
          6951.458118092839,
          7005.52586297261,
          7018.04963087348,
          7051.717018549172,
          7073.251747882176,
          7074.407416445439
         ],
         "yaxis": "y"
        },
        {
         "customdata": [
          [
           426
          ],
          [
           150
          ],
          [
           126
          ],
          [
           601
          ],
          [
           391
          ],
          [
           352
          ],
          [
           394
          ],
          [
           253
          ],
          [
           616
          ],
          [
           449
          ],
          [
           705
          ],
          [
           919
          ],
          [
           99
          ],
          [
           633
          ],
          [
           484
          ],
          [
           270
          ],
          [
           637
          ],
          [
           478
          ],
          [
           375
          ],
          [
           25
          ],
          [
           737
          ],
          [
           134
          ],
          [
           916
          ],
          [
           276
          ],
          [
           987
          ],
          [
           324
          ]
         ],
         "hovertemplate": "Product type=cosmetics<br>Price=%{x}<br>Revenue generated=%{y}<br>Number of products sold=%{customdata[0]}<extra></extra>",
         "legendgroup": "cosmetics",
         "marker": {
          "color": "#00cc96",
          "symbol": "circle"
         },
         "mode": "markers",
         "name": "cosmetics",
         "orientation": "v",
         "showlegend": true,
         "type": "scatter",
         "x": [
          42.95838438246007,
          68.71759674852733,
          81.46253436923702,
          84.89386898495083,
          4.324341185864164,
          92.55736081240202,
          2.397274705597141,
          63.44755918520733,
          64.7954350001556,
          84.95778681635043,
          52.0759306827078,
          51.35579091311039,
          78.89791320564004,
          14.203484264803022,
          63.828398347710966,
          72.79635395558736,
          6.381533162747966,
          90.20442752052809,
          83.8510176813046,
          76.96299441519388,
          75.27040697572501,
          97.76008558193868,
          62.11196546396179,
          47.71423307582023,
          3.037688724631414,
          24.42313142037338
         ],
         "xaxis": "x",
         "y": [
          8496.103813089838,
          7517.363210631127,
          2629.396434845262,
          7087.052696357437,
          8858.367571011484,
          2686.457223575984,
          6117.324615083992,
          8318.903194617178,
          5149.9983504080365,
          6541.329344802465,
          9692.318040218432,
          7152.2860494355145,
          8001.613206519002,
          5910.885389668899,
          1061.618523013288,
          3899.746833729224,
          8180.337085425443,
          2633.121981312256,
          7910.886916140686,
          8684.613059253858,
          9444.74203306298,
          5924.682566853231,
          1935.206793507599,
          2100.1297546259366,
          7888.356546661873,
          7698.424765632117
         ],
         "yaxis": "y"
        },
        {
         "hovertemplate": "<b>OLS trendline</b><br>Revenue generated = -24.4531 * Price + 7615.01<br>R<sup>2</sup>=0.081280<br><br>Product type=cosmetics<br>Price=%{x}<br>Revenue generated=%{y} <b>(trend)</b><extra></extra>",
         "legendgroup": "cosmetics",
         "marker": {
          "color": "#00cc96",
          "symbol": "circle"
         },
         "mode": "lines",
         "name": "cosmetics",
         "showlegend": false,
         "type": "scatter",
         "x": [
          2.397274705597141,
          3.037688724631414,
          4.324341185864164,
          6.381533162747966,
          14.203484264803022,
          24.42313142037338,
          42.95838438246007,
          47.71423307582023,
          51.35579091311039,
          52.0759306827078,
          62.11196546396179,
          63.44755918520733,
          63.828398347710966,
          64.7954350001556,
          68.71759674852733,
          72.79635395558736,
          75.27040697572501,
          76.96299441519388,
          78.89791320564004,
          81.46253436923702,
          83.8510176813046,
          84.89386898495083,
          84.95778681635043,
          90.20442752052809,
          92.55736081240202,
          97.76008558193868
         ],
         "xaxis": "x",
         "y": [
          7556.38927998508,
          7540.729195053975,
          7509.266600199936,
          7458.961953330758,
          7267.691283194808,
          7017.789598244959,
          6564.545873125505,
          6448.250801119087,
          6359.203554621431,
          6341.593930817178,
          6096.182130989664,
          6063.522772377094,
          6054.2100880000535,
          6030.563078942363,
          5934.6542070759115,
          5834.91609645141,
          5774.41791985334,
          5733.028971036485,
          5685.714278208753,
          5623.001433011197,
          5564.595697952629,
          5539.094788384407,
          5537.531801568723,
          5409.235361159252,
          5351.698933016192,
          5224.476371762808
         ],
         "yaxis": "y"
        }
       ],
       "layout": {
        "legend": {
         "title": {
          "text": "Product type"
         },
         "tracegroupgap": 0
        },
        "template": {
         "data": {
          "bar": [
           {
            "error_x": {
             "color": "#2a3f5f"
            },
            "error_y": {
             "color": "#2a3f5f"
            },
            "marker": {
             "line": {
              "color": "white",
              "width": 0.5
             },
             "pattern": {
              "fillmode": "overlay",
              "size": 10,
              "solidity": 0.2
             }
            },
            "type": "bar"
           }
          ],
          "barpolar": [
           {
            "marker": {
             "line": {
              "color": "white",
              "width": 0.5
             },
             "pattern": {
              "fillmode": "overlay",
              "size": 10,
              "solidity": 0.2
             }
            },
            "type": "barpolar"
           }
          ],
          "carpet": [
           {
            "aaxis": {
             "endlinecolor": "#2a3f5f",
             "gridcolor": "#C8D4E3",
             "linecolor": "#C8D4E3",
             "minorgridcolor": "#C8D4E3",
             "startlinecolor": "#2a3f5f"
            },
            "baxis": {
             "endlinecolor": "#2a3f5f",
             "gridcolor": "#C8D4E3",
             "linecolor": "#C8D4E3",
             "minorgridcolor": "#C8D4E3",
             "startlinecolor": "#2a3f5f"
            },
            "type": "carpet"
           }
          ],
          "choropleth": [
           {
            "colorbar": {
             "outlinewidth": 0,
             "ticks": ""
            },
            "type": "choropleth"
           }
          ],
          "contour": [
           {
            "colorbar": {
             "outlinewidth": 0,
             "ticks": ""
            },
            "colorscale": [
             [
              0,
              "#0d0887"
             ],
             [
              0.1111111111111111,
              "#46039f"
             ],
             [
              0.2222222222222222,
              "#7201a8"
             ],
             [
              0.3333333333333333,
              "#9c179e"
             ],
             [
              0.4444444444444444,
              "#bd3786"
             ],
             [
              0.5555555555555556,
              "#d8576b"
             ],
             [
              0.6666666666666666,
              "#ed7953"
             ],
             [
              0.7777777777777778,
              "#fb9f3a"
             ],
             [
              0.8888888888888888,
              "#fdca26"
             ],
             [
              1,
              "#f0f921"
             ]
            ],
            "type": "contour"
           }
          ],
          "contourcarpet": [
           {
            "colorbar": {
             "outlinewidth": 0,
             "ticks": ""
            },
            "type": "contourcarpet"
           }
          ],
          "heatmap": [
           {
            "colorbar": {
             "outlinewidth": 0,
             "ticks": ""
            },
            "colorscale": [
             [
              0,
              "#0d0887"
             ],
             [
              0.1111111111111111,
              "#46039f"
             ],
             [
              0.2222222222222222,
              "#7201a8"
             ],
             [
              0.3333333333333333,
              "#9c179e"
             ],
             [
              0.4444444444444444,
              "#bd3786"
             ],
             [
              0.5555555555555556,
              "#d8576b"
             ],
             [
              0.6666666666666666,
              "#ed7953"
             ],
             [
              0.7777777777777778,
              "#fb9f3a"
             ],
             [
              0.8888888888888888,
              "#fdca26"
             ],
             [
              1,
              "#f0f921"
             ]
            ],
            "type": "heatmap"
           }
          ],
          "heatmapgl": [
           {
            "colorbar": {
             "outlinewidth": 0,
             "ticks": ""
            },
            "colorscale": [
             [
              0,
              "#0d0887"
             ],
             [
              0.1111111111111111,
              "#46039f"
             ],
             [
              0.2222222222222222,
              "#7201a8"
             ],
             [
              0.3333333333333333,
              "#9c179e"
             ],
             [
              0.4444444444444444,
              "#bd3786"
             ],
             [
              0.5555555555555556,
              "#d8576b"
             ],
             [
              0.6666666666666666,
              "#ed7953"
             ],
             [
              0.7777777777777778,
              "#fb9f3a"
             ],
             [
              0.8888888888888888,
              "#fdca26"
             ],
             [
              1,
              "#f0f921"
             ]
            ],
            "type": "heatmapgl"
           }
          ],
          "histogram": [
           {
            "marker": {
             "pattern": {
              "fillmode": "overlay",
              "size": 10,
              "solidity": 0.2
             }
            },
            "type": "histogram"
           }
          ],
          "histogram2d": [
           {
            "colorbar": {
             "outlinewidth": 0,
             "ticks": ""
            },
            "colorscale": [
             [
              0,
              "#0d0887"
             ],
             [
              0.1111111111111111,
              "#46039f"
             ],
             [
              0.2222222222222222,
              "#7201a8"
             ],
             [
              0.3333333333333333,
              "#9c179e"
             ],
             [
              0.4444444444444444,
              "#bd3786"
             ],
             [
              0.5555555555555556,
              "#d8576b"
             ],
             [
              0.6666666666666666,
              "#ed7953"
             ],
             [
              0.7777777777777778,
              "#fb9f3a"
             ],
             [
              0.8888888888888888,
              "#fdca26"
             ],
             [
              1,
              "#f0f921"
             ]
            ],
            "type": "histogram2d"
           }
          ],
          "histogram2dcontour": [
           {
            "colorbar": {
             "outlinewidth": 0,
             "ticks": ""
            },
            "colorscale": [
             [
              0,
              "#0d0887"
             ],
             [
              0.1111111111111111,
              "#46039f"
             ],
             [
              0.2222222222222222,
              "#7201a8"
             ],
             [
              0.3333333333333333,
              "#9c179e"
             ],
             [
              0.4444444444444444,
              "#bd3786"
             ],
             [
              0.5555555555555556,
              "#d8576b"
             ],
             [
              0.6666666666666666,
              "#ed7953"
             ],
             [
              0.7777777777777778,
              "#fb9f3a"
             ],
             [
              0.8888888888888888,
              "#fdca26"
             ],
             [
              1,
              "#f0f921"
             ]
            ],
            "type": "histogram2dcontour"
           }
          ],
          "mesh3d": [
           {
            "colorbar": {
             "outlinewidth": 0,
             "ticks": ""
            },
            "type": "mesh3d"
           }
          ],
          "parcoords": [
           {
            "line": {
             "colorbar": {
              "outlinewidth": 0,
              "ticks": ""
             }
            },
            "type": "parcoords"
           }
          ],
          "pie": [
           {
            "automargin": true,
            "type": "pie"
           }
          ],
          "scatter": [
           {
            "fillpattern": {
             "fillmode": "overlay",
             "size": 10,
             "solidity": 0.2
            },
            "type": "scatter"
           }
          ],
          "scatter3d": [
           {
            "line": {
             "colorbar": {
              "outlinewidth": 0,
              "ticks": ""
             }
            },
            "marker": {
             "colorbar": {
              "outlinewidth": 0,
              "ticks": ""
             }
            },
            "type": "scatter3d"
           }
          ],
          "scattercarpet": [
           {
            "marker": {
             "colorbar": {
              "outlinewidth": 0,
              "ticks": ""
             }
            },
            "type": "scattercarpet"
           }
          ],
          "scattergeo": [
           {
            "marker": {
             "colorbar": {
              "outlinewidth": 0,
              "ticks": ""
             }
            },
            "type": "scattergeo"
           }
          ],
          "scattergl": [
           {
            "marker": {
             "colorbar": {
              "outlinewidth": 0,
              "ticks": ""
             }
            },
            "type": "scattergl"
           }
          ],
          "scattermapbox": [
           {
            "marker": {
             "colorbar": {
              "outlinewidth": 0,
              "ticks": ""
             }
            },
            "type": "scattermapbox"
           }
          ],
          "scatterpolar": [
           {
            "marker": {
             "colorbar": {
              "outlinewidth": 0,
              "ticks": ""
             }
            },
            "type": "scatterpolar"
           }
          ],
          "scatterpolargl": [
           {
            "marker": {
             "colorbar": {
              "outlinewidth": 0,
              "ticks": ""
             }
            },
            "type": "scatterpolargl"
           }
          ],
          "scatterternary": [
           {
            "marker": {
             "colorbar": {
              "outlinewidth": 0,
              "ticks": ""
             }
            },
            "type": "scatterternary"
           }
          ],
          "surface": [
           {
            "colorbar": {
             "outlinewidth": 0,
             "ticks": ""
            },
            "colorscale": [
             [
              0,
              "#0d0887"
             ],
             [
              0.1111111111111111,
              "#46039f"
             ],
             [
              0.2222222222222222,
              "#7201a8"
             ],
             [
              0.3333333333333333,
              "#9c179e"
             ],
             [
              0.4444444444444444,
              "#bd3786"
             ],
             [
              0.5555555555555556,
              "#d8576b"
             ],
             [
              0.6666666666666666,
              "#ed7953"
             ],
             [
              0.7777777777777778,
              "#fb9f3a"
             ],
             [
              0.8888888888888888,
              "#fdca26"
             ],
             [
              1,
              "#f0f921"
             ]
            ],
            "type": "surface"
           }
          ],
          "table": [
           {
            "cells": {
             "fill": {
              "color": "#EBF0F8"
             },
             "line": {
              "color": "white"
             }
            },
            "header": {
             "fill": {
              "color": "#C8D4E3"
             },
             "line": {
              "color": "white"
             }
            },
            "type": "table"
           }
          ]
         },
         "layout": {
          "annotationdefaults": {
           "arrowcolor": "#2a3f5f",
           "arrowhead": 0,
           "arrowwidth": 1
          },
          "autotypenumbers": "strict",
          "coloraxis": {
           "colorbar": {
            "outlinewidth": 0,
            "ticks": ""
           }
          },
          "colorscale": {
           "diverging": [
            [
             0,
             "#8e0152"
            ],
            [
             0.1,
             "#c51b7d"
            ],
            [
             0.2,
             "#de77ae"
            ],
            [
             0.3,
             "#f1b6da"
            ],
            [
             0.4,
             "#fde0ef"
            ],
            [
             0.5,
             "#f7f7f7"
            ],
            [
             0.6,
             "#e6f5d0"
            ],
            [
             0.7,
             "#b8e186"
            ],
            [
             0.8,
             "#7fbc41"
            ],
            [
             0.9,
             "#4d9221"
            ],
            [
             1,
             "#276419"
            ]
           ],
           "sequential": [
            [
             0,
             "#0d0887"
            ],
            [
             0.1111111111111111,
             "#46039f"
            ],
            [
             0.2222222222222222,
             "#7201a8"
            ],
            [
             0.3333333333333333,
             "#9c179e"
            ],
            [
             0.4444444444444444,
             "#bd3786"
            ],
            [
             0.5555555555555556,
             "#d8576b"
            ],
            [
             0.6666666666666666,
             "#ed7953"
            ],
            [
             0.7777777777777778,
             "#fb9f3a"
            ],
            [
             0.8888888888888888,
             "#fdca26"
            ],
            [
             1,
             "#f0f921"
            ]
           ],
           "sequentialminus": [
            [
             0,
             "#0d0887"
            ],
            [
             0.1111111111111111,
             "#46039f"
            ],
            [
             0.2222222222222222,
             "#7201a8"
            ],
            [
             0.3333333333333333,
             "#9c179e"
            ],
            [
             0.4444444444444444,
             "#bd3786"
            ],
            [
             0.5555555555555556,
             "#d8576b"
            ],
            [
             0.6666666666666666,
             "#ed7953"
            ],
            [
             0.7777777777777778,
             "#fb9f3a"
            ],
            [
             0.8888888888888888,
             "#fdca26"
            ],
            [
             1,
             "#f0f921"
            ]
           ]
          },
          "colorway": [
           "#636efa",
           "#EF553B",
           "#00cc96",
           "#ab63fa",
           "#FFA15A",
           "#19d3f3",
           "#FF6692",
           "#B6E880",
           "#FF97FF",
           "#FECB52"
          ],
          "font": {
           "color": "#2a3f5f"
          },
          "geo": {
           "bgcolor": "white",
           "lakecolor": "white",
           "landcolor": "white",
           "showlakes": true,
           "showland": true,
           "subunitcolor": "#C8D4E3"
          },
          "hoverlabel": {
           "align": "left"
          },
          "hovermode": "closest",
          "mapbox": {
           "style": "light"
          },
          "paper_bgcolor": "white",
          "plot_bgcolor": "white",
          "polar": {
           "angularaxis": {
            "gridcolor": "#EBF0F8",
            "linecolor": "#EBF0F8",
            "ticks": ""
           },
           "bgcolor": "white",
           "radialaxis": {
            "gridcolor": "#EBF0F8",
            "linecolor": "#EBF0F8",
            "ticks": ""
           }
          },
          "scene": {
           "xaxis": {
            "backgroundcolor": "white",
            "gridcolor": "#DFE8F3",
            "gridwidth": 2,
            "linecolor": "#EBF0F8",
            "showbackground": true,
            "ticks": "",
            "zerolinecolor": "#EBF0F8"
           },
           "yaxis": {
            "backgroundcolor": "white",
            "gridcolor": "#DFE8F3",
            "gridwidth": 2,
            "linecolor": "#EBF0F8",
            "showbackground": true,
            "ticks": "",
            "zerolinecolor": "#EBF0F8"
           },
           "zaxis": {
            "backgroundcolor": "white",
            "gridcolor": "#DFE8F3",
            "gridwidth": 2,
            "linecolor": "#EBF0F8",
            "showbackground": true,
            "ticks": "",
            "zerolinecolor": "#EBF0F8"
           }
          },
          "shapedefaults": {
           "line": {
            "color": "#2a3f5f"
           }
          },
          "ternary": {
           "aaxis": {
            "gridcolor": "#DFE8F3",
            "linecolor": "#A2B1C6",
            "ticks": ""
           },
           "baxis": {
            "gridcolor": "#DFE8F3",
            "linecolor": "#A2B1C6",
            "ticks": ""
           },
           "bgcolor": "white",
           "caxis": {
            "gridcolor": "#DFE8F3",
            "linecolor": "#A2B1C6",
            "ticks": ""
           }
          },
          "title": {
           "x": 0.05
          },
          "xaxis": {
           "automargin": true,
           "gridcolor": "#EBF0F8",
           "linecolor": "#EBF0F8",
           "ticks": "",
           "title": {
            "standoff": 15
           },
           "zerolinecolor": "#EBF0F8",
           "zerolinewidth": 2
          },
          "yaxis": {
           "automargin": true,
           "gridcolor": "#EBF0F8",
           "linecolor": "#EBF0F8",
           "ticks": "",
           "title": {
            "standoff": 15
           },
           "zerolinecolor": "#EBF0F8",
           "zerolinewidth": 2
          }
         }
        },
        "title": {
         "text": "Relationship between Product prices and Revenue"
        },
        "xaxis": {
         "anchor": "y",
         "domain": [
          0,
          1
         ],
         "title": {
          "text": "Price"
         }
        },
        "yaxis": {
         "anchor": "x",
         "domain": [
          0,
          1
         ],
         "title": {
          "text": "Revenue generated"
         }
        }
       }
      },
      "text/html": [
       "<div>                            <div id=\"0b15b8f5-17d7-4608-bc4a-c52c715f3a4a\" class=\"plotly-graph-div\" style=\"height:525px; width:100%;\"></div>            <script type=\"text/javascript\">                require([\"plotly\"], function(Plotly) {                    window.PLOTLYENV=window.PLOTLYENV || {};                                    if (document.getElementById(\"0b15b8f5-17d7-4608-bc4a-c52c715f3a4a\")) {                    Plotly.newPlot(                        \"0b15b8f5-17d7-4608-bc4a-c52c715f3a4a\",                        [{\"customdata\":[[802],[8],[147],[336],[620],[884],[209],[142],[353],[327],[598],[24],[859],[29],[154],[622],[701],[227],[117],[163],[32],[904],[241],[359],[946],[198],[774],[663],[618],[79],[114],[672],[62],[627]],\"hovertemplate\":\"Product type=haircare<br>Price=%{x}<br>Revenue generated=%{y}<br>Number of products sold=%{customdata[0]}<extra></extra>\",\"legendgroup\":\"haircare\",\"marker\":{\"color\":\"#636efa\",\"symbol\":\"circle\"},\"mode\":\"markers\",\"name\":\"haircare\",\"orientation\":\"v\",\"showlegend\":true,\"x\":[69.80800554211577,11.319683293090566,1.6999760138659377,71.21338907536008,36.443627770460935,27.67978088650196,4.156308359311108,39.62934398509263,97.44694661789282,8.022859210526393,11.74327177630924,33.78413803306551,27.0822071998889,76.03554442689172,26.70076097246173,31.146243160240854,79.85505834078943,49.26320535073416,52.02874990329492,37.93181238279032,47.914541824058766,3.170011413566155,69.10879954743032,57.44974295897148,6.306883176111915,57.05703122110322,72.81920693031822,68.91124621160633,89.10436729210225,80.41403665035574,69.29083100290549,77.90392721944775,3.526111259143416,68.51783269927664],\"xaxis\":\"x\",\"y\":[8661.996792392383,9577.74962586873,2828.348745975759,2873.7414460214413,9364.673505076173,2390.8078665561734,9049.077860939897,2174.777054350654,3716.493325894037,2766.342366866089,5737.425599119023,5267.956807510521,2556.767360633596,7397.07100458718,9866.465457979695,6088.021479940859,2925.6751703038126,1605.8669003924058,6885.589350896253,3550.218432780992,7014.887987203389,5709.945295969287,5328.375984297758,2483.7601775427947,1292.4584179377562,7888.723268427081,4384.413400045863,2411.754632110491,2048.2900998487103,5133.846701086692,4531.4021336919095,7386.363944048664,4370.916579984536,9185.185829181704],\"yaxis\":\"y\",\"type\":\"scatter\"},{\"hovertemplate\":\"<b>OLS trendline</b><br>Revenue generated = -4.1918 * Price + 5323.92<br>R<sup>2</sup>=0.002087<br><br>Product type=haircare<br>Price=%{x}<br>Revenue generated=%{y} <b>(trend)</b><extra></extra>\",\"legendgroup\":\"haircare\",\"marker\":{\"color\":\"#636efa\",\"symbol\":\"circle\"},\"mode\":\"lines\",\"name\":\"haircare\",\"showlegend\":false,\"x\":[1.6999760138659377,3.170011413566155,3.526111259143416,4.156308359311108,6.306883176111915,8.022859210526393,11.319683293090566,11.74327177630924,26.70076097246173,27.0822071998889,27.67978088650196,31.146243160240854,33.78413803306551,36.443627770460935,37.93181238279032,39.62934398509263,47.914541824058766,49.26320535073416,52.02874990329492,57.05703122110322,57.44974295897148,68.51783269927664,68.91124621160633,69.10879954743032,69.29083100290549,69.80800554211577,71.21338907536008,72.81920693031822,76.03554442689172,77.90392721944775,79.85505834078943,80.41403665035574,89.10436729210225,97.44694661789282],\"xaxis\":\"x\",\"y\":[5316.7977368723605,5310.635637773881,5309.142937300241,5306.501275076597,5297.4864886690575,5290.293454829986,5276.47381707762,5274.698217516479,5211.999366380027,5210.400418861738,5207.8955075675585,5193.364779901903,5182.307243722142,5171.159186119882,5164.921009093754,5157.805290684306,5123.07537183703,5117.422039744773,5105.829421228503,5084.751855489825,5083.1056851687745,5036.710431133037,5035.061319111551,5034.23321440548,5033.470174367188,5031.302280476691,5025.411189279167,5018.679916849689,5005.197663026359,4997.365770050195,4989.187012364302,4986.843885295287,4950.415729467264,4915.445278719665],\"yaxis\":\"y\",\"type\":\"scatter\"},{\"customdata\":[[736],[83],[871],[65],[980],[996],[960],[249],[562],[469],[280],[187],[320],[168],[781],[602],[963],[963],[176],[933],[556],[155],[910],[820],[242],[93],[896],[380],[246],[134],[457],[704],[513],[511],[106],[872],[336],[223],[320],[913]],\"hovertemplate\":\"Product type=skincare<br>Price=%{x}<br>Revenue generated=%{y}<br>Number of products sold=%{customdata[0]}<extra></extra>\",\"legendgroup\":\"skincare\",\"marker\":{\"color\":\"#EF553B\",\"symbol\":\"circle\"},\"mode\":\"markers\",\"name\":\"skincare\",\"orientation\":\"v\",\"showlegend\":true,\"x\":[14.84352327508434,61.163343016437736,4.805496036345893,4.078332863107945,64.01573294127854,15.707795681912138,90.63545998228868,16.160393317379977,99.1713286386242,36.98924492862691,7.547172109791272,51.12387008796474,96.34107243996338,50.8473930517187,79.20993601565672,37.46759232984246,9.813002578754052,23.39984475261435,19.127477265823256,80.54142417094033,99.11329161531717,46.52916761451677,95.71213588093607,98.03182965646508,30.34147071121421,20.986386037043378,59.84156137728931,17.028027920188702,13.017376785287857,89.63409560813533,33.69771720664313,26.03486977396209,87.75543235400107,54.86552851706979,92.99688423397066,91.12831835044432,17.034930739467917,19.99817694040422,13.881913501359142,19.7546048668786],\"xaxis\":\"x\",\"y\":[7460.900065445849,7766.836425685233,2686.505151567447,7823.476559531737,4971.145987585558,2330.965802091949,6099.944115581452,4052.738416237866,8653.570926469802,5442.086785397673,6453.797968176285,2553.495584991215,8128.027696851192,9655.135102719398,9571.55048732782,9061.710895507724,7573.402457848733,2438.339930470029,1912.4656631007608,5724.959350456265,5521.205259010972,1839.609425856764,7089.474249934186,9435.76260891213,8232.334829425821,4767.020484344137,2021.149810337108,8864.084349586436,4256.949140850225,8458.730878367178,8354.579686481995,8367.721618020154,9473.798032508335,1752.3810874841247,1889.073589779335,8651.672682982065,2943.3818676094515,1229.5910285649834,9592.633570280312,8525.952559683526],\"yaxis\":\"y\",\"type\":\"scatter\"},{\"hovertemplate\":\"<b>OLS trendline</b><br>Revenue generated = 19.9126 * Price + 5099.65<br>R<sup>2</sup>=0.054398<br><br>Product type=skincare<br>Price=%{x}<br>Revenue generated=%{y} <b>(trend)</b><extra></extra>\",\"legendgroup\":\"skincare\",\"marker\":{\"color\":\"#EF553B\",\"symbol\":\"circle\"},\"mode\":\"lines\",\"name\":\"skincare\",\"showlegend\":false,\"x\":[4.078332863107945,4.805496036345893,7.547172109791272,9.813002578754052,13.017376785287857,13.881913501359142,14.84352327508434,15.707795681912138,16.160393317379977,17.028027920188702,17.034930739467917,19.127477265823256,19.7546048668786,19.99817694040422,20.986386037043378,23.39984475261435,26.03486977396209,30.34147071121421,33.69771720664313,36.98924492862691,37.46759232984246,46.52916761451677,50.8473930517187,51.12387008796474,54.86552851706979,59.84156137728931,61.163343016437736,64.01573294127854,79.20993601565672,80.54142417094033,87.75543235400107,89.63409560813533,90.63545998228868,91.12831835044432,92.99688423397066,95.71213588093607,96.34107243996338,98.03182965646508,99.11329161531717,99.1713286386242],\"xaxis\":\"x\",\"y\":[5180.857755518091,5195.337471599116,5249.93139575627,5295.04999235987,5358.85744361096,5376.072625362523,5395.220784973355,5412.430703638248,5421.44310347051,5438.719972229968,5438.857425372537,5480.52548654929,5493.013233377035,5497.863388885066,5517.5412104176185,5565.599470600313,5618.069694038081,5703.825355409123,5770.656980194724,5836.199885337903,5845.725030192057,6026.164637418949,6112.151772914441,6117.657152085308,6192.163334080701,6291.2491317084805,6317.569252914231,6374.367778725376,6676.924006394016,6703.437409662096,6847.0871352550175,6884.49622242123,6904.435999853618,6914.2500959213185,6951.458118092839,7005.52586297261,7018.04963087348,7051.717018549172,7073.251747882176,7074.407416445439],\"yaxis\":\"y\",\"type\":\"scatter\"},{\"customdata\":[[426],[150],[126],[601],[391],[352],[394],[253],[616],[449],[705],[919],[99],[633],[484],[270],[637],[478],[375],[25],[737],[134],[916],[276],[987],[324]],\"hovertemplate\":\"Product type=cosmetics<br>Price=%{x}<br>Revenue generated=%{y}<br>Number of products sold=%{customdata[0]}<extra></extra>\",\"legendgroup\":\"cosmetics\",\"marker\":{\"color\":\"#00cc96\",\"symbol\":\"circle\"},\"mode\":\"markers\",\"name\":\"cosmetics\",\"orientation\":\"v\",\"showlegend\":true,\"x\":[42.95838438246007,68.71759674852733,81.46253436923702,84.89386898495083,4.324341185864164,92.55736081240202,2.397274705597141,63.44755918520733,64.7954350001556,84.95778681635043,52.0759306827078,51.35579091311039,78.89791320564004,14.203484264803022,63.828398347710966,72.79635395558736,6.381533162747966,90.20442752052809,83.8510176813046,76.96299441519388,75.27040697572501,97.76008558193868,62.11196546396179,47.71423307582023,3.037688724631414,24.42313142037338],\"xaxis\":\"x\",\"y\":[8496.103813089838,7517.363210631127,2629.396434845262,7087.052696357437,8858.367571011484,2686.457223575984,6117.324615083992,8318.903194617178,5149.9983504080365,6541.329344802465,9692.318040218432,7152.2860494355145,8001.613206519002,5910.885389668899,1061.618523013288,3899.746833729224,8180.337085425443,2633.121981312256,7910.886916140686,8684.613059253858,9444.74203306298,5924.682566853231,1935.206793507599,2100.1297546259366,7888.356546661873,7698.424765632117],\"yaxis\":\"y\",\"type\":\"scatter\"},{\"hovertemplate\":\"<b>OLS trendline</b><br>Revenue generated = -24.4531 * Price + 7615.01<br>R<sup>2</sup>=0.081280<br><br>Product type=cosmetics<br>Price=%{x}<br>Revenue generated=%{y} <b>(trend)</b><extra></extra>\",\"legendgroup\":\"cosmetics\",\"marker\":{\"color\":\"#00cc96\",\"symbol\":\"circle\"},\"mode\":\"lines\",\"name\":\"cosmetics\",\"showlegend\":false,\"x\":[2.397274705597141,3.037688724631414,4.324341185864164,6.381533162747966,14.203484264803022,24.42313142037338,42.95838438246007,47.71423307582023,51.35579091311039,52.0759306827078,62.11196546396179,63.44755918520733,63.828398347710966,64.7954350001556,68.71759674852733,72.79635395558736,75.27040697572501,76.96299441519388,78.89791320564004,81.46253436923702,83.8510176813046,84.89386898495083,84.95778681635043,90.20442752052809,92.55736081240202,97.76008558193868],\"xaxis\":\"x\",\"y\":[7556.38927998508,7540.729195053975,7509.266600199936,7458.961953330758,7267.691283194808,7017.789598244959,6564.545873125505,6448.250801119087,6359.203554621431,6341.593930817178,6096.182130989664,6063.522772377094,6054.2100880000535,6030.563078942363,5934.6542070759115,5834.91609645141,5774.41791985334,5733.028971036485,5685.714278208753,5623.001433011197,5564.595697952629,5539.094788384407,5537.531801568723,5409.235361159252,5351.698933016192,5224.476371762808],\"yaxis\":\"y\",\"type\":\"scatter\"}],                        {\"template\":{\"data\":{\"histogram2dcontour\":[{\"type\":\"histogram2dcontour\",\"colorbar\":{\"outlinewidth\":0,\"ticks\":\"\"},\"colorscale\":[[0.0,\"#0d0887\"],[0.1111111111111111,\"#46039f\"],[0.2222222222222222,\"#7201a8\"],[0.3333333333333333,\"#9c179e\"],[0.4444444444444444,\"#bd3786\"],[0.5555555555555556,\"#d8576b\"],[0.6666666666666666,\"#ed7953\"],[0.7777777777777778,\"#fb9f3a\"],[0.8888888888888888,\"#fdca26\"],[1.0,\"#f0f921\"]]}],\"choropleth\":[{\"type\":\"choropleth\",\"colorbar\":{\"outlinewidth\":0,\"ticks\":\"\"}}],\"histogram2d\":[{\"type\":\"histogram2d\",\"colorbar\":{\"outlinewidth\":0,\"ticks\":\"\"},\"colorscale\":[[0.0,\"#0d0887\"],[0.1111111111111111,\"#46039f\"],[0.2222222222222222,\"#7201a8\"],[0.3333333333333333,\"#9c179e\"],[0.4444444444444444,\"#bd3786\"],[0.5555555555555556,\"#d8576b\"],[0.6666666666666666,\"#ed7953\"],[0.7777777777777778,\"#fb9f3a\"],[0.8888888888888888,\"#fdca26\"],[1.0,\"#f0f921\"]]}],\"heatmap\":[{\"type\":\"heatmap\",\"colorbar\":{\"outlinewidth\":0,\"ticks\":\"\"},\"colorscale\":[[0.0,\"#0d0887\"],[0.1111111111111111,\"#46039f\"],[0.2222222222222222,\"#7201a8\"],[0.3333333333333333,\"#9c179e\"],[0.4444444444444444,\"#bd3786\"],[0.5555555555555556,\"#d8576b\"],[0.6666666666666666,\"#ed7953\"],[0.7777777777777778,\"#fb9f3a\"],[0.8888888888888888,\"#fdca26\"],[1.0,\"#f0f921\"]]}],\"heatmapgl\":[{\"type\":\"heatmapgl\",\"colorbar\":{\"outlinewidth\":0,\"ticks\":\"\"},\"colorscale\":[[0.0,\"#0d0887\"],[0.1111111111111111,\"#46039f\"],[0.2222222222222222,\"#7201a8\"],[0.3333333333333333,\"#9c179e\"],[0.4444444444444444,\"#bd3786\"],[0.5555555555555556,\"#d8576b\"],[0.6666666666666666,\"#ed7953\"],[0.7777777777777778,\"#fb9f3a\"],[0.8888888888888888,\"#fdca26\"],[1.0,\"#f0f921\"]]}],\"contourcarpet\":[{\"type\":\"contourcarpet\",\"colorbar\":{\"outlinewidth\":0,\"ticks\":\"\"}}],\"contour\":[{\"type\":\"contour\",\"colorbar\":{\"outlinewidth\":0,\"ticks\":\"\"},\"colorscale\":[[0.0,\"#0d0887\"],[0.1111111111111111,\"#46039f\"],[0.2222222222222222,\"#7201a8\"],[0.3333333333333333,\"#9c179e\"],[0.4444444444444444,\"#bd3786\"],[0.5555555555555556,\"#d8576b\"],[0.6666666666666666,\"#ed7953\"],[0.7777777777777778,\"#fb9f3a\"],[0.8888888888888888,\"#fdca26\"],[1.0,\"#f0f921\"]]}],\"surface\":[{\"type\":\"surface\",\"colorbar\":{\"outlinewidth\":0,\"ticks\":\"\"},\"colorscale\":[[0.0,\"#0d0887\"],[0.1111111111111111,\"#46039f\"],[0.2222222222222222,\"#7201a8\"],[0.3333333333333333,\"#9c179e\"],[0.4444444444444444,\"#bd3786\"],[0.5555555555555556,\"#d8576b\"],[0.6666666666666666,\"#ed7953\"],[0.7777777777777778,\"#fb9f3a\"],[0.8888888888888888,\"#fdca26\"],[1.0,\"#f0f921\"]]}],\"mesh3d\":[{\"type\":\"mesh3d\",\"colorbar\":{\"outlinewidth\":0,\"ticks\":\"\"}}],\"scatter\":[{\"fillpattern\":{\"fillmode\":\"overlay\",\"size\":10,\"solidity\":0.2},\"type\":\"scatter\"}],\"parcoords\":[{\"type\":\"parcoords\",\"line\":{\"colorbar\":{\"outlinewidth\":0,\"ticks\":\"\"}}}],\"scatterpolargl\":[{\"type\":\"scatterpolargl\",\"marker\":{\"colorbar\":{\"outlinewidth\":0,\"ticks\":\"\"}}}],\"bar\":[{\"error_x\":{\"color\":\"#2a3f5f\"},\"error_y\":{\"color\":\"#2a3f5f\"},\"marker\":{\"line\":{\"color\":\"white\",\"width\":0.5},\"pattern\":{\"fillmode\":\"overlay\",\"size\":10,\"solidity\":0.2}},\"type\":\"bar\"}],\"scattergeo\":[{\"type\":\"scattergeo\",\"marker\":{\"colorbar\":{\"outlinewidth\":0,\"ticks\":\"\"}}}],\"scatterpolar\":[{\"type\":\"scatterpolar\",\"marker\":{\"colorbar\":{\"outlinewidth\":0,\"ticks\":\"\"}}}],\"histogram\":[{\"marker\":{\"pattern\":{\"fillmode\":\"overlay\",\"size\":10,\"solidity\":0.2}},\"type\":\"histogram\"}],\"scattergl\":[{\"type\":\"scattergl\",\"marker\":{\"colorbar\":{\"outlinewidth\":0,\"ticks\":\"\"}}}],\"scatter3d\":[{\"type\":\"scatter3d\",\"line\":{\"colorbar\":{\"outlinewidth\":0,\"ticks\":\"\"}},\"marker\":{\"colorbar\":{\"outlinewidth\":0,\"ticks\":\"\"}}}],\"scattermapbox\":[{\"type\":\"scattermapbox\",\"marker\":{\"colorbar\":{\"outlinewidth\":0,\"ticks\":\"\"}}}],\"scatterternary\":[{\"type\":\"scatterternary\",\"marker\":{\"colorbar\":{\"outlinewidth\":0,\"ticks\":\"\"}}}],\"scattercarpet\":[{\"type\":\"scattercarpet\",\"marker\":{\"colorbar\":{\"outlinewidth\":0,\"ticks\":\"\"}}}],\"carpet\":[{\"aaxis\":{\"endlinecolor\":\"#2a3f5f\",\"gridcolor\":\"#C8D4E3\",\"linecolor\":\"#C8D4E3\",\"minorgridcolor\":\"#C8D4E3\",\"startlinecolor\":\"#2a3f5f\"},\"baxis\":{\"endlinecolor\":\"#2a3f5f\",\"gridcolor\":\"#C8D4E3\",\"linecolor\":\"#C8D4E3\",\"minorgridcolor\":\"#C8D4E3\",\"startlinecolor\":\"#2a3f5f\"},\"type\":\"carpet\"}],\"table\":[{\"cells\":{\"fill\":{\"color\":\"#EBF0F8\"},\"line\":{\"color\":\"white\"}},\"header\":{\"fill\":{\"color\":\"#C8D4E3\"},\"line\":{\"color\":\"white\"}},\"type\":\"table\"}],\"barpolar\":[{\"marker\":{\"line\":{\"color\":\"white\",\"width\":0.5},\"pattern\":{\"fillmode\":\"overlay\",\"size\":10,\"solidity\":0.2}},\"type\":\"barpolar\"}],\"pie\":[{\"automargin\":true,\"type\":\"pie\"}]},\"layout\":{\"autotypenumbers\":\"strict\",\"colorway\":[\"#636efa\",\"#EF553B\",\"#00cc96\",\"#ab63fa\",\"#FFA15A\",\"#19d3f3\",\"#FF6692\",\"#B6E880\",\"#FF97FF\",\"#FECB52\"],\"font\":{\"color\":\"#2a3f5f\"},\"hovermode\":\"closest\",\"hoverlabel\":{\"align\":\"left\"},\"paper_bgcolor\":\"white\",\"plot_bgcolor\":\"white\",\"polar\":{\"bgcolor\":\"white\",\"angularaxis\":{\"gridcolor\":\"#EBF0F8\",\"linecolor\":\"#EBF0F8\",\"ticks\":\"\"},\"radialaxis\":{\"gridcolor\":\"#EBF0F8\",\"linecolor\":\"#EBF0F8\",\"ticks\":\"\"}},\"ternary\":{\"bgcolor\":\"white\",\"aaxis\":{\"gridcolor\":\"#DFE8F3\",\"linecolor\":\"#A2B1C6\",\"ticks\":\"\"},\"baxis\":{\"gridcolor\":\"#DFE8F3\",\"linecolor\":\"#A2B1C6\",\"ticks\":\"\"},\"caxis\":{\"gridcolor\":\"#DFE8F3\",\"linecolor\":\"#A2B1C6\",\"ticks\":\"\"}},\"coloraxis\":{\"colorbar\":{\"outlinewidth\":0,\"ticks\":\"\"}},\"colorscale\":{\"sequential\":[[0.0,\"#0d0887\"],[0.1111111111111111,\"#46039f\"],[0.2222222222222222,\"#7201a8\"],[0.3333333333333333,\"#9c179e\"],[0.4444444444444444,\"#bd3786\"],[0.5555555555555556,\"#d8576b\"],[0.6666666666666666,\"#ed7953\"],[0.7777777777777778,\"#fb9f3a\"],[0.8888888888888888,\"#fdca26\"],[1.0,\"#f0f921\"]],\"sequentialminus\":[[0.0,\"#0d0887\"],[0.1111111111111111,\"#46039f\"],[0.2222222222222222,\"#7201a8\"],[0.3333333333333333,\"#9c179e\"],[0.4444444444444444,\"#bd3786\"],[0.5555555555555556,\"#d8576b\"],[0.6666666666666666,\"#ed7953\"],[0.7777777777777778,\"#fb9f3a\"],[0.8888888888888888,\"#fdca26\"],[1.0,\"#f0f921\"]],\"diverging\":[[0,\"#8e0152\"],[0.1,\"#c51b7d\"],[0.2,\"#de77ae\"],[0.3,\"#f1b6da\"],[0.4,\"#fde0ef\"],[0.5,\"#f7f7f7\"],[0.6,\"#e6f5d0\"],[0.7,\"#b8e186\"],[0.8,\"#7fbc41\"],[0.9,\"#4d9221\"],[1,\"#276419\"]]},\"xaxis\":{\"gridcolor\":\"#EBF0F8\",\"linecolor\":\"#EBF0F8\",\"ticks\":\"\",\"title\":{\"standoff\":15},\"zerolinecolor\":\"#EBF0F8\",\"automargin\":true,\"zerolinewidth\":2},\"yaxis\":{\"gridcolor\":\"#EBF0F8\",\"linecolor\":\"#EBF0F8\",\"ticks\":\"\",\"title\":{\"standoff\":15},\"zerolinecolor\":\"#EBF0F8\",\"automargin\":true,\"zerolinewidth\":2},\"scene\":{\"xaxis\":{\"backgroundcolor\":\"white\",\"gridcolor\":\"#DFE8F3\",\"linecolor\":\"#EBF0F8\",\"showbackground\":true,\"ticks\":\"\",\"zerolinecolor\":\"#EBF0F8\",\"gridwidth\":2},\"yaxis\":{\"backgroundcolor\":\"white\",\"gridcolor\":\"#DFE8F3\",\"linecolor\":\"#EBF0F8\",\"showbackground\":true,\"ticks\":\"\",\"zerolinecolor\":\"#EBF0F8\",\"gridwidth\":2},\"zaxis\":{\"backgroundcolor\":\"white\",\"gridcolor\":\"#DFE8F3\",\"linecolor\":\"#EBF0F8\",\"showbackground\":true,\"ticks\":\"\",\"zerolinecolor\":\"#EBF0F8\",\"gridwidth\":2}},\"shapedefaults\":{\"line\":{\"color\":\"#2a3f5f\"}},\"annotationdefaults\":{\"arrowcolor\":\"#2a3f5f\",\"arrowhead\":0,\"arrowwidth\":1},\"geo\":{\"bgcolor\":\"white\",\"landcolor\":\"white\",\"subunitcolor\":\"#C8D4E3\",\"showland\":true,\"showlakes\":true,\"lakecolor\":\"white\"},\"title\":{\"x\":0.05},\"mapbox\":{\"style\":\"light\"}}},\"xaxis\":{\"anchor\":\"y\",\"domain\":[0.0,1.0],\"title\":{\"text\":\"Price\"}},\"yaxis\":{\"anchor\":\"x\",\"domain\":[0.0,1.0],\"title\":{\"text\":\"Revenue generated\"}},\"legend\":{\"title\":{\"text\":\"Product type\"},\"tracegroupgap\":0},\"title\":{\"text\":\"Relationship between Product prices and Revenue\"}},                        {\"responsive\": true}                    ).then(function(){\n",
       "                            \n",
       "var gd = document.getElementById('0b15b8f5-17d7-4608-bc4a-c52c715f3a4a');\n",
       "var x = new MutationObserver(function (mutations, observer) {{\n",
       "        var display = window.getComputedStyle(gd).display;\n",
       "        if (!display || display === 'none') {{\n",
       "            console.log([gd, 'removed!']);\n",
       "            Plotly.purge(gd);\n",
       "            observer.disconnect();\n",
       "        }}\n",
       "}});\n",
       "\n",
       "// Listen for the removal of the full notebook cells\n",
       "var notebookContainer = gd.closest('#notebook-container');\n",
       "if (notebookContainer) {{\n",
       "    x.observe(notebookContainer, {childList: true});\n",
       "}}\n",
       "\n",
       "// Listen for the clearing of the current output cell\n",
       "var outputEl = gd.closest('.output');\n",
       "if (outputEl) {{\n",
       "    x.observe(outputEl, {childList: true});\n",
       "}}\n",
       "\n",
       "                        })                };                });            </script>        </div>"
      ]
     },
     "metadata": {},
     "output_type": "display_data"
    }
   ],
   "source": [
    "#Accoumpanying code for Section 7\n",
    "\n",
    "from dash import Dash, dcc, html, Input, Output\n",
    "import pandas as pd\n",
    "import plotly.express as px\n",
    "import plotly.graph_objects as go\n",
    "import plotly.io as pio\n",
    "pio.templates.default = \"plotly_white\"\n",
    "\n",
    "\n",
    "#Incorporate Data\n",
    "supply_chain_data = pd.read_csv('supply_chain_data.csv')\n",
    "\n",
    "#Initialize the Dash app\n",
    "app = Dash(__name__)\n",
    "\n",
    "#Creating charts\n",
    "\n",
    "#Stock Level Distribution\n",
    "fig_stock_level = px.histogram(supply_chain_data, x='Stock levels', nbins=30, title='Stock Levels Distribution',\n",
    "                               template='plotly_white', color_discrete_sequence=['#3498db'])\n",
    "\n",
    "\n",
    "figure= fig_stock_level.show()\n",
    "\n",
    "#Relationship between Product prices and Revenue\n",
    "fig_relationship_pp = px.scatter(supply_chain_data, x='Price', \n",
    "                 y='Revenue generated', title = 'Relationship between Product prices and Revenue',\n",
    "                 color='Product type', \n",
    "                 hover_data=['Number of products sold'], \n",
    "                 trendline=\"ols\")\n",
    "\n",
    "figure= fig_relationship_pp.show()\n"
   ]
  },
  {
   "cell_type": "markdown",
   "metadata": {},
   "source": [
    "## 8. Reflective Evaluation\n",
    "\n",
    "The iterative process of the project from defining objectives, and aligning them to support the key decision-making processes, to selecting appropriate visuals for the dashboard, applying relevant data visualization theories, and implementing real-time features underlines the importance of continuous learning and adaptability. The cohesive nature of the process from collecting data to creating visualizations, while referring to literature, theories, and articles, enhanced the research skills, visualization skills, and problem-solving skills.\n",
    "\n",
    "Challenges faced: Implementing a real-time feature to the dashboard was complex considering that the dashboard needs to be interactive and up-to-date showing real-time updates of supply chain performance.\n",
    "Using the Dash Framework felt technical to create visualizations, especially while calculating KPIs and creating visuals like scatter plots and trend lines.\n",
    "\n",
    "Lessons learned: Gained knowledge of Dash Python Framework by referring to literature materials and YouTube videos. It provided opportunities for growth and learning new tools and concepts like Supply Chain Analytics, thus enhancing employability skills. Visual analysis improved critical thinking and moving forward, these lessons will undoubtedly help in future projects."
   ]
  },
  {
   "cell_type": "markdown",
   "metadata": {},
   "source": [
    "## 9. Conclusion\n",
    "\n",
    "In conclusion, the project resulted in a successful and interactive Supply Chain analytics dashboard for a fashion and beauty startup. The visualizations give an overall current performance of the supply chain and a call-to-action for the senior executives to implement the strategies to improve the Supply chain management. It effectively aligned with the project’s objectives and the use of analytics methods provided valuable insights to support effective decision-making. The overall outcome signifies the successful implementation of the supply chain process, thereby enhancing decision-making, problem-solving, and technical skills."
   ]
  },
  {
   "cell_type": "markdown",
   "metadata": {},
   "source": [
    "\n",
    "## References\n",
    "\n",
    "1. Allied Market Research. (n.d.). Supply chain analytics market. https://www.alliedmarketresearch.com/supply-chain-analytics-market\n",
    "\n",
    "2. Bongsug (Kevin) Chae, David Olson & Chwen Sheu (2014) The impact of supply chain analytics on operational performance: a resource-based view, International Journal of Production Research, 52:16, 4695-4710, DOI: 10.1080/00207543.2013.861616\n",
    "\n",
    "3. *PolymerSearch*. (n.d.). Scatter plot visual trend line significance. https://www.polymersearch.com/glossary/scatter-plot#:~:text=Adding%20a%20trend%20line%20to,easier%20to%20observe%20and%20analyze\n",
    "\n",
    "4. Coursera. (n.d.). Supply chain analytics. https://www.coursera.org/articles/supply-chain-analytics\n",
    "\n",
    "5. GeeksforGeeks. (n.d.). Python Plotly tutorial. https://www.geeksforgeeks.org/python-plotly-tutorial/\n",
    "\n",
    "6. Hadley Wickham, (n.d.). Tidy data. https://vita.had.co.nz/papers/tidy-data.pdf\n",
    "\n",
    "7. *Real Python*. (n.d.). Add Interactivity to Your Dash Apps Using Callbacks. https://realpython.com/python-dash/#add-interactivity-to-your-dash-apps-using-callbacks\n",
    "\n",
    "8. Kane, J., & Trochim, W. M. K. (2013). Conceptualizing and specifying the relationship between two variables. *The Journal of Experimental Education, 81*(3), 359–382. https://doi.org/10.1080/00207543.2013.861616\n",
    "\n",
    "9. Kirk, A. (2019). Data visualization: A handbook for data-driven design. Design process (pp. 43-44), Importance of visual encoding (pp. 147-153).\n",
    "\n",
    "10. Kasturi, R., & Prasad, K. (2022). A novel approach for managing disruptions in supply chain networks. *Annals of Operations Research, 312*(1-2), 11-12. https://link.springer.com/article/10.1007/s10479-022-04749-6\n",
    "\n",
    "11. McKinsey & Company. (n.d.). The state of fashion. https://www.mckinsey.com/industries/retail/our-insights/state-of-fashion\n",
    "\n",
    "12. McFarlane, D. (2016). Supply chain analytics: 3 success stories. CIO. https://www.cio.com/article/305002/supply-chain-analytics-3-success-stories.html\n",
    "\n",
    "13. M. Theus, & J. Urbanek. (n.d.). From data to viz. https://www.data-to-viz.com/\n",
    "\n",
    "14. Pinto, A., & Serra, F. (2020). Principles of effective data visualization. *Patterns, 1*(6), 100145. https://www.sciencedirect.com/science/article/pii/S2666389920301896#sec2\n",
    "\n",
    "15. Plotly. (n.d.). Dash documentation. https://dash.plotly.com/\n",
    "\n",
    "16. *Supply Chain Analytics*. (n.d.). ScienceDirect. https://www.sciencedirect.com/journal/supply-chain-analytics\n",
    "\n",
    "17. Sentdex. (n.d.). Plotly Dash tutorials. [YouTube Playlist]. https://youtube.com/playlist?list=PLH6mU1kedUy8fCzkTTJlwsf2EnV_UvOV-&si=tgulrOVVhQ2SuXqa\n",
    "\n",
    "18. TechTarget. (n.d.). Supply chain analytics. TechTarget. https://www.techtarget.com/searcherp/definition/supply-chain-analytics\n",
    "\n",
    "19. Wickham, H., & Miller, E. (2016). Tidy data. *Journal of Statistical Software, 59*(10). https://files.eric.ed.gov/fulltext/EJ1113116.pdf\n",
    "\n",
    "20. (University of Exeter, 2023), Week8_Tools.pptx\n",
    "\n",
    "21. (University of Exeter, 2023). Week9_Production.pptx\n",
    "\n",
    "22. Cairo, A. (2012). *The Functional Art*. New Riders."
   ]
  },
  {
   "cell_type": "code",
   "execution_count": null,
   "metadata": {},
   "outputs": [],
   "source": []
  }
 ],
 "metadata": {
  "kernelspec": {
   "display_name": "Python 3 (ipykernel)",
   "language": "python",
   "name": "python3"
  },
  "language_info": {
   "codemirror_mode": {
    "name": "ipython",
    "version": 3
   },
   "file_extension": ".py",
   "mimetype": "text/x-python",
   "name": "python",
   "nbconvert_exporter": "python",
   "pygments_lexer": "ipython3",
   "version": "3.11.5"
  }
 },
 "nbformat": 4,
 "nbformat_minor": 2
}
